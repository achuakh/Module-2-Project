{
 "cells": [
  {
   "cell_type": "code",
   "execution_count": 2,
   "id": "f8534fd8",
   "metadata": {},
   "outputs": [],
   "source": [
    "import numpy as np\n",
    "import pandas as pd\n",
    "import duckdb\n",
    "from pandas_gbq import to_gbq\n",
    "from pandas_gbq import read_gbq"
   ]
  },
  {
   "cell_type": "code",
   "execution_count": 3,
   "id": "73cb19ef",
   "metadata": {},
   "outputs": [
    {
     "name": "stdout",
     "output_type": "stream",
     "text": [
      "Downloading: 100%|\u001b[32m██████████\u001b[0m|\n",
      "Downloading: 100%|\u001b[32m██████████\u001b[0m|\n",
      "Downloading: 100%|\u001b[32m██████████\u001b[0m|\n",
      "Downloading: 100%|\u001b[32m██████████\u001b[0m|\n",
      "Downloading: 100%|\u001b[32m██████████\u001b[0m|\n",
      "Downloading: 100%|\u001b[32m██████████\u001b[0m|\n",
      "Downloading: 100%|\u001b[32m██████████\u001b[0m|\n"
     ]
    }
   ],
   "source": [
    "# query bigquery\n",
    "project_id = \"projectm2-aiess\"\n",
    "query = \"SELECT * FROM olist_brazilian_ecommerce_target.DIM_CUSTOMERS\"\n",
    "df_customers = read_gbq(query, project_id=project_id)\n",
    "query2 = \"SELECT * FROM olist_brazilian_ecommerce_target.FCT_PAYMENTS\"\n",
    "df_payments = read_gbq(query2, project_id=project_id)\n",
    "query3 = \"SELECT * FROM olist_brazilian_ecommerce_target.FCT_REVIEWS\"\n",
    "df_reviews = read_gbq(query3, project_id=project_id)\n",
    "query4 = \"SELECT * FROM olist_brazilian_ecommerce_target.DIM_GEOLOCATION\"\n",
    "df_geolocation = read_gbq(query4, project_id=project_id)\n",
    "query5 = \"SELECT * FROM olist_brazilian_ecommerce_target.FCT_ORDER_ITEMS\"\n",
    "df_items =  read_gbq(query5, project_id=project_id)\n",
    "query6 = \"SELECT * FROM olist_brazilian_ecommerce_target.DIM_DATE\"\n",
    "df_date = read_gbq(query6, project_id=project_id)\n",
    "query7 = \"SELECT * FROM olist_brazilian_ecommerce_target.DIM_ORDERS\"\n",
    "df_orders = read_gbq(query7, project_id=project_id)\n"
   ]
  },
  {
   "cell_type": "markdown",
   "id": "fd8cd08b",
   "metadata": {},
   "source": [
    "<div class=\"alert alert-block alert-info\">\n",
    "Feature engineering"
   ]
  },
  {
   "cell_type": "code",
   "execution_count": 3,
   "id": "f070e5e7",
   "metadata": {},
   "outputs": [
    {
     "data": {
      "text/plain": [
       "Index(['pk_order_sid', 'fk_customer_sid', 'fk_order_purchased_date_sid',\n",
       "       'fk_order_approved_at_date_sid', 'fk_order_delivered_carrier_date_sid',\n",
       "       'fk_order_delivered_customer_date_sid',\n",
       "       'fk_order_estimated_delivery_date_sid', 'order_status', 'total_payment',\n",
       "       'order_amt', 'freight_amt', 'total_order_amt_wf_freight', 'balance_amt',\n",
       "       'payment_status', 'order_purchase_timestamp', 'order_approved_at',\n",
       "       'order_delivered_carrier_date', 'order_delivered_customer_date',\n",
       "       'order_estimated_delivery_date', 'load_date'],\n",
       "      dtype='object')"
      ]
     },
     "execution_count": 3,
     "metadata": {},
     "output_type": "execute_result"
    }
   ],
   "source": [
    "df_orders.columns"
   ]
  },
  {
   "cell_type": "code",
   "execution_count": 4,
   "id": "c2a303f1",
   "metadata": {},
   "outputs": [
    {
     "data": {
      "text/plain": [
       "Index(['pk_order_sid', 'fk_customer_sid', 'fk_order_purchased_date_sid',\n",
       "       'fk_order_approved_at_date_sid', 'fk_order_delivered_carrier_date_sid',\n",
       "       'fk_order_delivered_customer_date_sid',\n",
       "       'fk_order_estimated_delivery_date_sid', 'order_status', 'total_payment',\n",
       "       'order_amt', 'freight_amt', 'total_order_amt_wf_freight', 'balance_amt',\n",
       "       'payment_status', 'order_purchase_timestamp', 'order_approved_at',\n",
       "       'order_delivered_carrier_date', 'order_delivered_customer_date',\n",
       "       'order_estimated_delivery_date', 'load_date', 'actual_delivery_time',\n",
       "       'estimated delivery_time', 'actual_delivery_time_minutes',\n",
       "       'estimated delivery_time_minutes'],\n",
       "      dtype='object')"
      ]
     },
     "execution_count": 4,
     "metadata": {},
     "output_type": "execute_result"
    }
   ],
   "source": [
    "DS_orders_delivery = df_orders.copy()\n",
    "DS_orders_delivery['actual_delivery_time'] = DS_orders_delivery['order_delivered_customer_date'] -  DS_orders_delivery['order_purchase_timestamp']\n",
    "DS_orders_delivery['estimated delivery_time'] = DS_orders_delivery['order_estimated_delivery_date'] -DS_orders_delivery['order_purchase_timestamp']\n",
    "DS_orders_delivery['actual_delivery_time_minutes'] = DS_orders_delivery['actual_delivery_time'].dt.total_seconds() / 60\n",
    "DS_orders_delivery['estimated delivery_time_minutes'] = DS_orders_delivery['estimated delivery_time'].dt.total_seconds() / 60\n",
    "DS_orders_delivery.columns"
   ]
  },
  {
   "cell_type": "code",
   "execution_count": 5,
   "id": "a701b799",
   "metadata": {},
   "outputs": [
    {
     "name": "stderr",
     "output_type": "stream",
     "text": [
      "/home/chuhao/miniconda3/envs/dagster_meltano/lib/python3.11/site-packages/pandas_gbq/schema/pandas_to_bigquery.py:157: UserWarning: Could not determine the type of columns: actual_delivery_time, estimated delivery_time\n",
      "  warnings.warn(msg)\n",
      "100%|██████████| 1/1 [00:00<00:00, 4029.11it/s]\n"
     ]
    }
   ],
   "source": [
    "to_gbq(\n",
    "    DS_orders_delivery,\n",
    "    destination_table='olist_brazilian_ecommerce_DS.DS_orders_delivery',\n",
    "    project_id='projectm2-aiess',\n",
    "    if_exists='replace',\n",
    ")"
   ]
  },
  {
   "cell_type": "code",
   "execution_count": 4,
   "id": "38cb5e43",
   "metadata": {},
   "outputs": [
    {
     "data": {
      "text/plain": [
       "Index(['pk_order_sid', 'fk_customer_sid', 'fk_order_purchased_date_sid',\n",
       "       'fk_order_approved_at_date_sid', 'fk_order_delivered_carrier_date_sid',\n",
       "       'fk_order_delivered_customer_date_sid',\n",
       "       'fk_order_estimated_delivery_date_sid', 'order_status', 'total_payment',\n",
       "       'order_amt', 'freight_amt', 'total_order_amt_wf_freight', 'balance_amt',\n",
       "       'payment_status', 'order_purchase_timestamp', 'order_approved_at',\n",
       "       'order_delivered_carrier_date', 'order_delivered_customer_date',\n",
       "       'order_estimated_delivery_date', 'load_date'],\n",
       "      dtype='object')"
      ]
     },
     "execution_count": 4,
     "metadata": {},
     "output_type": "execute_result"
    }
   ],
   "source": [
    "df_orders.columns"
   ]
  },
  {
   "cell_type": "code",
   "execution_count": 5,
   "id": "0535e043",
   "metadata": {},
   "outputs": [
    {
     "name": "stdout",
     "output_type": "stream",
     "text": [
      "Number of orders with NULL total_payment: 1\n"
     ]
    }
   ],
   "source": [
    "null_payment_count = df_orders['total_payment'].isnull().sum()\n",
    "print(f\"Number of orders with NULL total_payment: {null_payment_count}\")"
   ]
  },
  {
   "cell_type": "code",
   "execution_count": 6,
   "id": "7d1696b3",
   "metadata": {},
   "outputs": [
    {
     "name": "stdout",
     "output_type": "stream",
     "text": [
      "Total number of orders: 99441\n",
      "Orders with more than one customer: 0\n"
     ]
    }
   ],
   "source": [
    "# Check how many unique customers per order\n",
    "order_customer_counts = df_orders.groupby('pk_order_sid')['fk_customer_sid'].count().reset_index(name='unique_customers_per_order')\n",
    "\n",
    "# Filter for any orders that have more than one customer (which should not happen)\n",
    "multiple_customers = order_customer_counts[order_customer_counts['unique_customers_per_order'] > 1]\n",
    "\n",
    "print(f\"Total number of orders: {len(df_orders)}\")\n",
    "print(f\"Orders with more than one customer: {len(multiple_customers)}\")\n"
   ]
  },
  {
   "cell_type": "code",
   "execution_count": 7,
   "id": "aff5b208",
   "metadata": {},
   "outputs": [
    {
     "data": {
      "text/plain": [
       "Index(['pk_customer_sid', 'customer_unique_id', 'customer_zip_code_prefix',\n",
       "       'customer_city', 'customer_state', 'load_date'],\n",
       "      dtype='object')"
      ]
     },
     "execution_count": 7,
     "metadata": {},
     "output_type": "execute_result"
    }
   ],
   "source": [
    "df_customers.columns"
   ]
  },
  {
   "cell_type": "code",
   "execution_count": 8,
   "id": "4d817859",
   "metadata": {},
   "outputs": [
    {
     "data": {
      "text/plain": [
       "Index(['fk_order_sid', 'pk_order_id', 'pk_order_item_id',\n",
       "       'fk_shipping_limit_date_sid', 'product_id', 'seller_id',\n",
       "       'shipping_limit_date', 'price', 'freight_value',\n",
       "       'product_category_name', 'product_category_name_english',\n",
       "       'product_name_length', 'product_description_length',\n",
       "       'product_photos_qty', 'product_weight_g', 'product_length_cm',\n",
       "       'product_height_cm', 'product_width_cm', 'seller_zip_code_prefix',\n",
       "       'seller_city', 'seller_state', 'load_date'],\n",
       "      dtype='object')"
      ]
     },
     "execution_count": 8,
     "metadata": {},
     "output_type": "execute_result"
    }
   ],
   "source": [
    "df_items.columns"
   ]
  },
  {
   "cell_type": "code",
   "execution_count": 9,
   "id": "6f07769d",
   "metadata": {},
   "outputs": [],
   "source": [
    "#get buyer city + orders in df\n",
    "orders_customers = pd.merge(\n",
    "    df_orders,\n",
    "    df_customers,\n",
    "    how='left',\n",
    "    left_on='fk_customer_sid',\n",
    "    right_on='pk_customer_sid'\n",
    ")\n"
   ]
  },
  {
   "cell_type": "code",
   "execution_count": 23,
   "id": "76a32106",
   "metadata": {},
   "outputs": [
    {
     "name": "stdout",
     "output_type": "stream",
     "text": [
      "Total number of orders: 98666\n",
      "Number of orders with multiple items: 9803\n"
     ]
    }
   ],
   "source": [
    "# Count how many items per order\n",
    "item_counts = df_items.groupby('fk_order_sid')['pk_order_item_id'].count().reset_index(name='item_count')\n",
    "\n",
    "# Look at how many orders have more than 1 item\n",
    "multiple_items_orders = item_counts[item_counts['item_count'] > 1]\n",
    "\n",
    "print(f\"Total number of orders: {len(item_counts)}\")\n",
    "print(f\"Number of orders with multiple items: {len(multiple_items_orders)}\")"
   ]
  },
  {
   "cell_type": "markdown",
   "id": "3d61f4fb",
   "metadata": {},
   "source": [
    "there are orders with multiple items, item aggregation is required to avoid duplicate on merge"
   ]
  },
  {
   "cell_type": "code",
   "execution_count": 49,
   "id": "d4bb86bf",
   "metadata": {},
   "outputs": [
    {
     "name": "stdout",
     "output_type": "stream",
     "text": [
      "orders with >1 product category: 726\n"
     ]
    }
   ],
   "source": [
    "# Count unique categories per order\n",
    "category_per_order_check = df_items.groupby('fk_order_sid')['product_category_name_english'].nunique()\n",
    "\n",
    "# Check if any order has more than one category (should be 0)\n",
    "orders_with_multiple_product_cat = category_per_order_check[category_per_order_check > 1]\n",
    "\n",
    "print(f\"orders with >1 product category: {len(orders_with_multiple_product_cat)}\")"
   ]
  },
  {
   "cell_type": "markdown",
   "id": "8503c0f4",
   "metadata": {},
   "source": [
    "there are items with multiple product_category_name_english, we will use mode in this case"
   ]
  },
  {
   "cell_type": "code",
   "execution_count": null,
   "id": "8911acb5",
   "metadata": {},
   "outputs": [
    {
     "data": {
      "text/html": [
       "<div>\n",
       "<style scoped>\n",
       "    .dataframe tbody tr th:only-of-type {\n",
       "        vertical-align: middle;\n",
       "    }\n",
       "\n",
       "    .dataframe tbody tr th {\n",
       "        vertical-align: top;\n",
       "    }\n",
       "\n",
       "    .dataframe thead th {\n",
       "        text-align: right;\n",
       "    }\n",
       "</style>\n",
       "<table border=\"1\" class=\"dataframe\">\n",
       "  <thead>\n",
       "    <tr style=\"text-align: right;\">\n",
       "      <th></th>\n",
       "      <th>fk_order_sid</th>\n",
       "      <th>price</th>\n",
       "      <th>product_category_name_english</th>\n",
       "    </tr>\n",
       "  </thead>\n",
       "  <tbody>\n",
       "    <tr>\n",
       "      <th>0</th>\n",
       "      <td>00010242fe8c5a6d1ba2dd792cb16214</td>\n",
       "      <td>58.90</td>\n",
       "      <td>cool_stuff</td>\n",
       "    </tr>\n",
       "    <tr>\n",
       "      <th>1</th>\n",
       "      <td>00018f77f2f0320c557190d7a144bdd3</td>\n",
       "      <td>239.90</td>\n",
       "      <td>pet_shop</td>\n",
       "    </tr>\n",
       "    <tr>\n",
       "      <th>2</th>\n",
       "      <td>000229ec398224ef6ca0657da4fc703e</td>\n",
       "      <td>199.00</td>\n",
       "      <td>furniture_decor</td>\n",
       "    </tr>\n",
       "    <tr>\n",
       "      <th>3</th>\n",
       "      <td>00024acbcdf0a6daa1e931b038114c75</td>\n",
       "      <td>12.99</td>\n",
       "      <td>perfumery</td>\n",
       "    </tr>\n",
       "    <tr>\n",
       "      <th>4</th>\n",
       "      <td>00042b26cf59d7ce69dfabb4e55b4fd9</td>\n",
       "      <td>199.90</td>\n",
       "      <td>garden_tools</td>\n",
       "    </tr>\n",
       "  </tbody>\n",
       "</table>\n",
       "</div>"
      ],
      "text/plain": [
       "                       fk_order_sid   price product_category_name_english\n",
       "0  00010242fe8c5a6d1ba2dd792cb16214   58.90                    cool_stuff\n",
       "1  00018f77f2f0320c557190d7a144bdd3  239.90                      pet_shop\n",
       "2  000229ec398224ef6ca0657da4fc703e  199.00               furniture_decor\n",
       "3  00024acbcdf0a6daa1e931b038114c75   12.99                     perfumery\n",
       "4  00042b26cf59d7ce69dfabb4e55b4fd9  199.90                  garden_tools"
      ]
     },
     "execution_count": 41,
     "metadata": {},
     "output_type": "execute_result"
    }
   ],
   "source": [
    "#group by order instead to avoid dup on merge\n",
    "#using mode since there are items with multiple product_category_english \n",
    "item_agg = df_items.groupby('fk_order_sid').agg({\n",
    "    'price': 'sum',\n",
    "    'product_category_name_english': lambda x: x.mode().iloc[0] if not x.mode().empty else None\n",
    "}).reset_index()\n",
    "item_agg.head()"
   ]
  },
  {
   "cell_type": "code",
   "execution_count": 42,
   "id": "4403b7ca",
   "metadata": {},
   "outputs": [],
   "source": [
    "orders_full = pd.merge(df_orders, item_agg, left_on='pk_order_sid', right_on='fk_order_sid', how='left')"
   ]
  },
  {
   "cell_type": "code",
   "execution_count": 43,
   "id": "9b04734a",
   "metadata": {},
   "outputs": [],
   "source": [
    "orders_full['profit'] = orders_full['total_payment'] - orders_full['price']"
   ]
  },
  {
   "cell_type": "code",
   "execution_count": 44,
   "id": "f1a62deb",
   "metadata": {},
   "outputs": [
    {
     "data": {
      "text/plain": [
       "Index(['pk_order_sid', 'fk_customer_sid', 'fk_order_purchased_date_sid',\n",
       "       'fk_order_approved_at_date_sid', 'fk_order_delivered_carrier_date_sid',\n",
       "       'fk_order_delivered_customer_date_sid',\n",
       "       'fk_order_estimated_delivery_date_sid', 'order_status', 'total_payment',\n",
       "       'order_amt', 'freight_amt', 'total_order_amt_wf_freight', 'balance_amt',\n",
       "       'payment_status', 'order_purchase_timestamp', 'order_approved_at',\n",
       "       'order_delivered_carrier_date', 'order_delivered_customer_date',\n",
       "       'order_estimated_delivery_date', 'load_date', 'fk_order_sid', 'price',\n",
       "       'product_category_name_english', 'profit'],\n",
       "      dtype='object')"
      ]
     },
     "execution_count": 44,
     "metadata": {},
     "output_type": "execute_result"
    }
   ],
   "source": [
    "orders_full.columns"
   ]
  },
  {
   "cell_type": "code",
   "execution_count": 45,
   "id": "415f0ebe",
   "metadata": {},
   "outputs": [
    {
     "name": "stderr",
     "output_type": "stream",
     "text": [
      "100%|██████████| 1/1 [00:00<00:00, 9776.93it/s]\n"
     ]
    }
   ],
   "source": [
    "to_gbq(\n",
    "    orders_full,\n",
    "    destination_table='olist_brazilian_ecommerce_DS.DS_orders_full_profits',\n",
    "    project_id='projectm2-aiess',\n",
    "    if_exists='replace',\n",
    ")"
   ]
  },
  {
   "cell_type": "code",
   "execution_count": 26,
   "id": "a8db7303",
   "metadata": {},
   "outputs": [],
   "source": [
    "DS_land_geolocation = df_geolocation.copy()\n",
    "\n",
    "DS_land_geolocation = DS_land_geolocation[\n",
    "    (DS_land_geolocation['geolocation_lat'].between(-34, 5)) &\n",
    "    (DS_land_geolocation['geolocation_lng'].between(-74, -34))\n",
    "]\n",
    "\n"
   ]
  },
  {
   "cell_type": "code",
   "execution_count": 27,
   "id": "e8291ce7",
   "metadata": {},
   "outputs": [
    {
     "name": "stderr",
     "output_type": "stream",
     "text": [
      "100%|██████████| 1/1 [00:00<00:00, 7738.57it/s]\n"
     ]
    }
   ],
   "source": [
    "to_gbq(\n",
    "    DS_land_geolocation,\n",
    "    destination_table='olist_brazilian_ecommerce_DS.DS_land_geolocation',\n",
    "    project_id='projectm2-aiess',\n",
    "    if_exists='replace',\n",
    ")"
   ]
  }
 ],
 "metadata": {
  "kernelspec": {
   "display_name": "dagster_meltano",
   "language": "python",
   "name": "python3"
  },
  "language_info": {
   "codemirror_mode": {
    "name": "ipython",
    "version": 3
   },
   "file_extension": ".py",
   "mimetype": "text/x-python",
   "name": "python",
   "nbconvert_exporter": "python",
   "pygments_lexer": "ipython3",
   "version": "3.11.13"
  }
 },
 "nbformat": 4,
 "nbformat_minor": 5
}
