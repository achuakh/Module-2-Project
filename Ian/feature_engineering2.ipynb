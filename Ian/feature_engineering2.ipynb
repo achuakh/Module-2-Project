{
 "cells": [
  {
   "cell_type": "code",
   "execution_count": 1,
   "id": "f8534fd8",
   "metadata": {},
   "outputs": [],
   "source": [
    "import numpy as np\n",
    "import pandas as pd\n",
    "import duckdb\n",
    "from pandas_gbq import to_gbq\n",
    "from pandas_gbq import read_gbq"
   ]
  },
  {
   "cell_type": "code",
   "execution_count": 5,
   "id": "73cb19ef",
   "metadata": {},
   "outputs": [
    {
     "name": "stdout",
     "output_type": "stream",
     "text": [
      "Downloading: 100%|\u001b[32m██████████\u001b[0m|\n",
      "Downloading: 100%|\u001b[32m██████████\u001b[0m|\n",
      "Downloading: 100%|\u001b[32m██████████\u001b[0m|\n",
      "Downloading: 100%|\u001b[32m██████████\u001b[0m|\n",
      "Downloading: 100%|\u001b[32m██████████\u001b[0m|\n",
      "Downloading: 100%|\u001b[32m██████████\u001b[0m|\n",
      "Downloading: 100%|\u001b[32m██████████\u001b[0m|\n"
     ]
    }
   ],
   "source": [
    "# query bigquery\n",
    "project_id = \"projectm2-aiess\"\n",
    "query = \"SELECT * FROM olist_brazilian_ecommerce_target.DIM_CUSTOMERS\"\n",
    "df_customers = read_gbq(query, project_id=project_id)\n",
    "query2 = \"SELECT * FROM olist_brazilian_ecommerce_target.FCT_PAYMENTS\"\n",
    "df_payments = read_gbq(query2, project_id=project_id)\n",
    "query3 = \"SELECT * FROM olist_brazilian_ecommerce_target.FCT_REVIEWS\"\n",
    "df_reviews = read_gbq(query3, project_id=project_id)\n",
    "query4 = \"SELECT * FROM olist_brazilian_ecommerce_target.DIM_GEOLOCATION\"\n",
    "df_geolocation = read_gbq(query4, project_id=project_id)\n",
    "query5 = \"SELECT * FROM olist_brazilian_ecommerce_target.FCT_ORDER_ITEMS\"\n",
    "df_items =  read_gbq(query5, project_id=project_id)\n",
    "query6 = \"SELECT * FROM olist_brazilian_ecommerce_target.DIM_DATE\"\n",
    "df_date = read_gbq(query6, project_id=project_id)\n",
    "query7 = \"SELECT * FROM olist_brazilian_ecommerce_target.DIM_ORDERS\"\n",
    "df_orders = read_gbq(query7, project_id=project_id)\n"
   ]
  },
  {
   "cell_type": "markdown",
   "id": "fd8cd08b",
   "metadata": {},
   "source": [
    "<div class=\"alert alert-block alert-info\">\n",
    "Feature engineering"
   ]
  },
  {
   "cell_type": "code",
   "execution_count": null,
   "id": "f070e5e7",
   "metadata": {},
   "outputs": [
    {
     "data": {
      "text/plain": [
       "Index(['payment_sid', 'review_sid', 'item_sid', 'customer_sid', 'order_status',\n",
       "       'order_purchase_timestamp', 'order_approved_at',\n",
       "       'order_delivered_carrier_date', 'order_delivered_customer_date',\n",
       "       'order_estimated_delivery_date', 'TOTAL_PAYMENT'],\n",
       "      dtype='object')"
      ]
     },
     "execution_count": 3,
     "metadata": {},
     "output_type": "execute_result"
    }
   ],
   "source": [
    "df_orders.columns"
   ]
  },
  {
   "cell_type": "code",
   "execution_count": 6,
   "id": "c2a303f1",
   "metadata": {},
   "outputs": [
    {
     "data": {
      "text/plain": [
       "Index(['pk_order_sid', 'fk_customer_sid', 'fk_order_purchased_date_sid',\n",
       "       'fk_order_approved_at_date_sid', 'fk_order_delivered_carrier_date_sid',\n",
       "       'fk_order_delivered_customer_date_sid',\n",
       "       'fk_order_estimated_delivery_date_sid', 'order_status', 'total_payment',\n",
       "       'order_amt', 'freight_amt', 'total_order_amt_wf_freight', 'balance_amt',\n",
       "       'payment_status', 'order_purchase_timestamp', 'order_approved_at',\n",
       "       'order_delivered_carrier_date', 'order_delivered_customer_date',\n",
       "       'order_estimated_delivery_date', 'load_date', 'actual_delivery_time',\n",
       "       'estimated delivery_time', 'actual_delivery_time_minutes',\n",
       "       'estimated delivery_time_minutes'],\n",
       "      dtype='object')"
      ]
     },
     "execution_count": 6,
     "metadata": {},
     "output_type": "execute_result"
    }
   ],
   "source": [
    "DS_orders_delivery = df_orders.copy()\n",
    "DS_orders_delivery['actual_delivery_time'] = DS_orders_delivery['order_delivered_customer_date'] -  DS_orders_delivery['order_purchase_timestamp']\n",
    "DS_orders_delivery['estimated delivery_time'] = DS_orders_delivery['order_estimated_delivery_date'] -DS_orders_delivery['order_purchase_timestamp']\n",
    "DS_orders_delivery['actual_delivery_time_minutes'] = DS_orders_delivery['actual_delivery_time'].dt.total_seconds() / 60\n",
    "DS_orders_delivery['estimated delivery_time_minutes'] = DS_orders_delivery['estimated delivery_time'].dt.total_seconds() / 60\n",
    "DS_orders_delivery.columns"
   ]
  },
  {
   "cell_type": "code",
   "execution_count": 7,
   "id": "a701b799",
   "metadata": {},
   "outputs": [
    {
     "name": "stderr",
     "output_type": "stream",
     "text": [
      "/home/chuhao/miniconda3/envs/dagster_meltano/lib/python3.11/site-packages/pandas_gbq/schema/pandas_to_bigquery.py:157: UserWarning: Could not determine the type of columns: actual_delivery_time, estimated delivery_time\n",
      "  warnings.warn(msg)\n",
      "100%|██████████| 1/1 [00:00<00:00, 5077.85it/s]\n"
     ]
    }
   ],
   "source": [
    "to_gbq(\n",
    "    DS_orders_delivery,\n",
    "    destination_table='olist_brazilian_ecommerce_DS.DS_orders_delivery',\n",
    "    project_id='projectm2-aiess',\n",
    "    if_exists='replace',\n",
    ")"
   ]
  },
  {
   "cell_type": "code",
   "execution_count": 9,
   "id": "38cb5e43",
   "metadata": {},
   "outputs": [
    {
     "data": {
      "text/plain": [
       "Index(['pk_order_sid', 'fk_customer_sid', 'fk_order_purchased_date_sid',\n",
       "       'fk_order_approved_at_date_sid', 'fk_order_delivered_carrier_date_sid',\n",
       "       'fk_order_delivered_customer_date_sid',\n",
       "       'fk_order_estimated_delivery_date_sid', 'order_status', 'total_payment',\n",
       "       'order_amt', 'freight_amt', 'total_order_amt_wf_freight', 'balance_amt',\n",
       "       'payment_status', 'order_purchase_timestamp', 'order_approved_at',\n",
       "       'order_delivered_carrier_date', 'order_delivered_customer_date',\n",
       "       'order_estimated_delivery_date', 'load_date'],\n",
       "      dtype='object')"
      ]
     },
     "execution_count": 9,
     "metadata": {},
     "output_type": "execute_result"
    }
   ],
   "source": [
    "df_orders.columns"
   ]
  },
  {
   "cell_type": "code",
   "execution_count": 10,
   "id": "aff5b208",
   "metadata": {},
   "outputs": [
    {
     "data": {
      "text/plain": [
       "Index(['pk_customer_sid', 'customer_unique_id', 'customer_zip_code_prefix',\n",
       "       'customer_city', 'customer_state', 'load_date'],\n",
       "      dtype='object')"
      ]
     },
     "execution_count": 10,
     "metadata": {},
     "output_type": "execute_result"
    }
   ],
   "source": [
    "df_customers.columns"
   ]
  },
  {
   "cell_type": "code",
   "execution_count": 11,
   "id": "4d817859",
   "metadata": {},
   "outputs": [
    {
     "data": {
      "text/plain": [
       "Index(['fk_order_sid', 'pk_order_id', 'pk_order_item_id',\n",
       "       'fk_shipping_limit_date_sid', 'product_id', 'seller_id',\n",
       "       'shipping_limit_date', 'price', 'freight_value',\n",
       "       'product_category_name', 'product_category_name_english',\n",
       "       'product_name_length', 'product_description_length',\n",
       "       'product_photos_qty', 'product_weight_g', 'product_length_cm',\n",
       "       'product_height_cm', 'product_width_cm', 'seller_zip_code_prefix',\n",
       "       'seller_city', 'seller_state', 'load_date'],\n",
       "      dtype='object')"
      ]
     },
     "execution_count": 11,
     "metadata": {},
     "output_type": "execute_result"
    }
   ],
   "source": [
    "df_items.columns"
   ]
  },
  {
   "cell_type": "code",
   "execution_count": 14,
   "id": "6f07769d",
   "metadata": {},
   "outputs": [],
   "source": [
    "#get buyer city + orders in df\n",
    "orders_customers = pd.merge(\n",
    "    df_orders,\n",
    "    df_customers,\n",
    "    how='left',\n",
    "    left_on='fk_customer_sid',\n",
    "    right_on='pk_customer_sid'\n",
    ")\n"
   ]
  },
  {
   "cell_type": "code",
   "execution_count": 21,
   "id": "9d68d9c8",
   "metadata": {},
   "outputs": [
    {
     "name": "stdout",
     "output_type": "stream",
     "text": [
      "orders_customers columns: Index(['pk_order_sid', 'fk_customer_sid', 'fk_order_purchased_date_sid',\n",
      "       'fk_order_approved_at_date_sid', 'fk_order_delivered_carrier_date_sid',\n",
      "       'fk_order_delivered_customer_date_sid',\n",
      "       'fk_order_estimated_delivery_date_sid', 'order_status', 'total_payment',\n",
      "       'order_amt', 'freight_amt', 'total_order_amt_wf_freight', 'balance_amt',\n",
      "       'payment_status', 'order_purchase_timestamp', 'order_approved_at',\n",
      "       'order_delivered_carrier_date', 'order_delivered_customer_date',\n",
      "       'order_estimated_delivery_date', 'load_date_x', 'pk_customer_sid',\n",
      "       'customer_unique_id', 'customer_zip_code_prefix', 'customer_city',\n",
      "       'customer_state', 'load_date_y'],\n",
      "      dtype='object')\n"
     ]
    }
   ],
   "source": [
    "print(\"orders_customers columns:\", orders_customers.columns)"
   ]
  },
  {
   "cell_type": "code",
   "execution_count": 22,
   "id": "b137ec61",
   "metadata": {},
   "outputs": [
    {
     "name": "stdout",
     "output_type": "stream",
     "text": [
      "df_items columns: Index(['fk_order_sid', 'pk_order_id', 'pk_order_item_id',\n",
      "       'fk_shipping_limit_date_sid', 'product_id', 'seller_id',\n",
      "       'shipping_limit_date', 'price', 'freight_value',\n",
      "       'product_category_name', 'product_category_name_english',\n",
      "       'product_name_length', 'product_description_length',\n",
      "       'product_photos_qty', 'product_weight_g', 'product_length_cm',\n",
      "       'product_height_cm', 'product_width_cm', 'seller_zip_code_prefix',\n",
      "       'seller_city', 'seller_state', 'load_date'],\n",
      "      dtype='object')\n"
     ]
    }
   ],
   "source": [
    "print(\"df_items columns:\", df_items.columns)"
   ]
  },
  {
   "cell_type": "code",
   "execution_count": 18,
   "id": "4403b7ca",
   "metadata": {},
   "outputs": [],
   "source": [
    "#get buyer city + orders in df\n",
    "orders_customers = pd.merge(\n",
    "    df_orders,\n",
    "    df_customers,\n",
    "    how='left',\n",
    "    left_on='fk_customer_sid',\n",
    "    right_on='pk_customer_sid'\n",
    ")\n",
    "\n",
    "#if prices are needed\n",
    "orders_full = pd.merge(\n",
    "    orders_customers,\n",
    "    df_items[['fk_order_sid', 'pk_order_item_id', 'price']],\n",
    "    how='left',\n",
    "    left_on='pk_order_sid',\n",
    "    right_on='fk_order_sid'\n",
    ")"
   ]
  },
  {
   "cell_type": "code",
   "execution_count": 20,
   "id": "f6b8298b",
   "metadata": {},
   "outputs": [
    {
     "data": {
      "text/plain": [
       "Index(['pk_order_sid', 'fk_customer_sid', 'fk_order_purchased_date_sid',\n",
       "       'fk_order_approved_at_date_sid', 'fk_order_delivered_carrier_date_sid',\n",
       "       'fk_order_delivered_customer_date_sid',\n",
       "       'fk_order_estimated_delivery_date_sid', 'order_status', 'total_payment',\n",
       "       'order_amt', 'freight_amt', 'total_order_amt_wf_freight', 'balance_amt',\n",
       "       'payment_status', 'order_purchase_timestamp', 'order_approved_at',\n",
       "       'order_delivered_carrier_date', 'order_delivered_customer_date',\n",
       "       'order_estimated_delivery_date', 'load_date_x', 'pk_customer_sid',\n",
       "       'customer_unique_id', 'customer_zip_code_prefix', 'customer_city',\n",
       "       'customer_state', 'load_date_y', 'fk_order_sid', 'pk_order_item_id',\n",
       "       'price'],\n",
       "      dtype='object')"
      ]
     },
     "execution_count": 20,
     "metadata": {},
     "output_type": "execute_result"
    }
   ],
   "source": [
    "orders_full.columns"
   ]
  },
  {
   "cell_type": "code",
   "execution_count": 23,
   "id": "9b04734a",
   "metadata": {},
   "outputs": [],
   "source": [
    "orders_full['profit'] = orders_full['total_payment'] - orders_full['price']"
   ]
  },
  {
   "cell_type": "code",
   "execution_count": 24,
   "id": "f1a62deb",
   "metadata": {},
   "outputs": [
    {
     "data": {
      "text/plain": [
       "Index(['pk_order_sid', 'fk_customer_sid', 'fk_order_purchased_date_sid',\n",
       "       'fk_order_approved_at_date_sid', 'fk_order_delivered_carrier_date_sid',\n",
       "       'fk_order_delivered_customer_date_sid',\n",
       "       'fk_order_estimated_delivery_date_sid', 'order_status', 'total_payment',\n",
       "       'order_amt', 'freight_amt', 'total_order_amt_wf_freight', 'balance_amt',\n",
       "       'payment_status', 'order_purchase_timestamp', 'order_approved_at',\n",
       "       'order_delivered_carrier_date', 'order_delivered_customer_date',\n",
       "       'order_estimated_delivery_date', 'load_date_x', 'pk_customer_sid',\n",
       "       'customer_unique_id', 'customer_zip_code_prefix', 'customer_city',\n",
       "       'customer_state', 'load_date_y', 'fk_order_sid', 'pk_order_item_id',\n",
       "       'price', 'profit'],\n",
       "      dtype='object')"
      ]
     },
     "execution_count": 24,
     "metadata": {},
     "output_type": "execute_result"
    }
   ],
   "source": [
    "orders_full.columns"
   ]
  },
  {
   "cell_type": "code",
   "execution_count": 25,
   "id": "415f0ebe",
   "metadata": {},
   "outputs": [
    {
     "name": "stderr",
     "output_type": "stream",
     "text": [
      "100%|██████████| 1/1 [00:00<00:00, 10866.07it/s]\n"
     ]
    }
   ],
   "source": [
    "to_gbq(\n",
    "    orders_full,\n",
    "    destination_table='olist_brazilian_ecommerce_DS.DS_orders_full_profits',\n",
    "    project_id='projectm2-aiess',\n",
    "    if_exists='replace',\n",
    ")"
   ]
  },
  {
   "cell_type": "code",
   "execution_count": 26,
   "id": "a8db7303",
   "metadata": {},
   "outputs": [],
   "source": [
    "DS_land_geolocation = df_geolocation.copy()\n",
    "\n",
    "DS_land_geolocation = DS_land_geolocation[\n",
    "    (DS_land_geolocation['geolocation_lat'].between(-34, 5)) &\n",
    "    (DS_land_geolocation['geolocation_lng'].between(-74, -34))\n",
    "]\n",
    "\n"
   ]
  },
  {
   "cell_type": "code",
   "execution_count": 27,
   "id": "e8291ce7",
   "metadata": {},
   "outputs": [
    {
     "name": "stderr",
     "output_type": "stream",
     "text": [
      "100%|██████████| 1/1 [00:00<00:00, 7738.57it/s]\n"
     ]
    }
   ],
   "source": [
    "to_gbq(\n",
    "    DS_land_geolocation,\n",
    "    destination_table='olist_brazilian_ecommerce_DS.DS_land_geolocation',\n",
    "    project_id='projectm2-aiess',\n",
    "    if_exists='replace',\n",
    ")"
   ]
  }
 ],
 "metadata": {
  "kernelspec": {
   "display_name": "dagster_meltano",
   "language": "python",
   "name": "python3"
  },
  "language_info": {
   "codemirror_mode": {
    "name": "ipython",
    "version": 3
   },
   "file_extension": ".py",
   "mimetype": "text/x-python",
   "name": "python",
   "nbconvert_exporter": "python",
   "pygments_lexer": "ipython3",
   "version": "3.11.13"
  }
 },
 "nbformat": 4,
 "nbformat_minor": 5
}
