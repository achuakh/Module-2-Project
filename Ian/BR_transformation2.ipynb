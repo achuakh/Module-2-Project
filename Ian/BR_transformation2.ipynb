{
 "cells": [
  {
   "cell_type": "code",
   "execution_count": null,
   "id": "f8534fd8",
   "metadata": {},
   "outputs": [],
   "source": [
    "import numpy as np\n",
    "import pandas as pd\n",
    "import duckdb\n",
    "import sqlalchemy\n",
    "from pandas_gbq import to_gbq"
   ]
  },
  {
   "cell_type": "code",
   "execution_count": 28,
   "id": "ba8e857c",
   "metadata": {},
   "outputs": [],
   "source": [
    "# Connect to DuckDB\n",
    "con = duckdb.connect(\"duckdb/br_temp.db\")\n",
    "\n",
    "# Load each table into a separate DataFrame\n",
    "dim_customers = con.execute(\"SELECT * FROM olist.dim_customers\").fetchdf()\n",
    "dim_payments = con.execute(\"SELECT * FROM olist.dim_payments\").fetchdf()\n",
    "dim_reviews = con.execute(\"SELECT * FROM olist.dim_reviews\").fetchdf()\n",
    "dim_geolocation = con.execute(\"SELECT * FROM olist.dim_geolocation\").fetchdf()\n",
    "dim_items = con.execute(\"SELECT * FROM olist.dim_items\").fetchdf()\n",
    "dim_date = con.execute(\"SELECT * FROM olist.dim_date\").fetchdf()\n",
    "fct_orders = con.execute(\"SELECT * FROM olist.fct_orders\").fetchdf()\n"
   ]
  },
  {
   "cell_type": "code",
   "execution_count": 29,
   "id": "cda47793",
   "metadata": {},
   "outputs": [],
   "source": [
    "def check_one_to_one_mapping(df, key_col, value_cols):\n",
    "    combo_counts = df.groupby(key_col)[value_cols].nunique()\n",
    "\n",
    "    # Keep rows where there's more than 1 unique combinations for any value_col\n",
    "    inconsistent_keys = combo_counts[(combo_counts > 1).any(axis=1)]\n",
    "\n",
    "    if not inconsistent_keys.empty:\n",
    "        print(f\" {key_col} has non-unique combinations of {value_cols} :\")\n",
    "        return df[df[key_col].isin(inconsistent_keys.index)].sort_values(key_col)\n",
    "    else:\n",
    "        print(f\"Each '{key_col}' maps uniquely to combinations of {value_cols}.\")\n"
   ]
  },
  {
   "cell_type": "code",
   "execution_count": 30,
   "id": "585c87ce",
   "metadata": {},
   "outputs": [
    {
     "name": "stdout",
     "output_type": "stream",
     "text": [
      " geolocation_zip_code_prefix has non-unique combinations of ['geolocation_lat', 'geolocation_lng'] :\n"
     ]
    },
    {
     "data": {
      "text/html": [
       "<div>\n",
       "<style scoped>\n",
       "    .dataframe tbody tr th:only-of-type {\n",
       "        vertical-align: middle;\n",
       "    }\n",
       "\n",
       "    .dataframe tbody tr th {\n",
       "        vertical-align: top;\n",
       "    }\n",
       "\n",
       "    .dataframe thead th {\n",
       "        text-align: right;\n",
       "    }\n",
       "</style>\n",
       "<table border=\"1\" class=\"dataframe\">\n",
       "  <thead>\n",
       "    <tr style=\"text-align: right;\">\n",
       "      <th></th>\n",
       "      <th>geolocation_zip_code_prefix</th>\n",
       "      <th>geolocation_lat</th>\n",
       "      <th>geolocation_lng</th>\n",
       "      <th>geolocation_city</th>\n",
       "      <th>geolocation_state</th>\n",
       "    </tr>\n",
       "  </thead>\n",
       "  <tbody>\n",
       "    <tr>\n",
       "      <th>278917</th>\n",
       "      <td>01001</td>\n",
       "      <td>-23.549779</td>\n",
       "      <td>-46.633957</td>\n",
       "      <td>sao paulo</td>\n",
       "      <td>SP</td>\n",
       "    </tr>\n",
       "    <tr>\n",
       "      <th>93514</th>\n",
       "      <td>01001</td>\n",
       "      <td>-23.549292</td>\n",
       "      <td>-46.633559</td>\n",
       "      <td>sao paulo</td>\n",
       "      <td>SP</td>\n",
       "    </tr>\n",
       "    <tr>\n",
       "      <th>647684</th>\n",
       "      <td>01001</td>\n",
       "      <td>-23.550642</td>\n",
       "      <td>-46.634410</td>\n",
       "      <td>sao paulo</td>\n",
       "      <td>SP</td>\n",
       "    </tr>\n",
       "    <tr>\n",
       "      <th>186040</th>\n",
       "      <td>01001</td>\n",
       "      <td>-23.549779</td>\n",
       "      <td>-46.633957</td>\n",
       "      <td>são paulo</td>\n",
       "      <td>SP</td>\n",
       "    </tr>\n",
       "    <tr>\n",
       "      <th>463454</th>\n",
       "      <td>01001</td>\n",
       "      <td>-23.551337</td>\n",
       "      <td>-46.634027</td>\n",
       "      <td>sao paulo</td>\n",
       "      <td>SP</td>\n",
       "    </tr>\n",
       "    <tr>\n",
       "      <th>...</th>\n",
       "      <td>...</td>\n",
       "      <td>...</td>\n",
       "      <td>...</td>\n",
       "      <td>...</td>\n",
       "      <td>...</td>\n",
       "    </tr>\n",
       "    <tr>\n",
       "      <th>483660</th>\n",
       "      <td>99980</td>\n",
       "      <td>-28.390507</td>\n",
       "      <td>-51.847413</td>\n",
       "      <td>david canabarro</td>\n",
       "      <td>RS</td>\n",
       "    </tr>\n",
       "    <tr>\n",
       "      <th>21871</th>\n",
       "      <td>99980</td>\n",
       "      <td>-28.386408</td>\n",
       "      <td>-51.844876</td>\n",
       "      <td>david canabarro</td>\n",
       "      <td>RS</td>\n",
       "    </tr>\n",
       "    <tr>\n",
       "      <th>391715</th>\n",
       "      <td>99980</td>\n",
       "      <td>-28.386239</td>\n",
       "      <td>-51.847741</td>\n",
       "      <td>david canabarro</td>\n",
       "      <td>RS</td>\n",
       "    </tr>\n",
       "    <tr>\n",
       "      <th>21867</th>\n",
       "      <td>99990</td>\n",
       "      <td>-28.329472</td>\n",
       "      <td>-51.769109</td>\n",
       "      <td>muliterno</td>\n",
       "      <td>RS</td>\n",
       "    </tr>\n",
       "    <tr>\n",
       "      <th>299280</th>\n",
       "      <td>99990</td>\n",
       "      <td>-28.329718</td>\n",
       "      <td>-51.769615</td>\n",
       "      <td>muliterno</td>\n",
       "      <td>RS</td>\n",
       "    </tr>\n",
       "  </tbody>\n",
       "</table>\n",
       "<p>737056 rows × 5 columns</p>\n",
       "</div>"
      ],
      "text/plain": [
       "       geolocation_zip_code_prefix  geolocation_lat  geolocation_lng  \\\n",
       "278917                       01001       -23.549779       -46.633957   \n",
       "93514                        01001       -23.549292       -46.633559   \n",
       "647684                       01001       -23.550642       -46.634410   \n",
       "186040                       01001       -23.549779       -46.633957   \n",
       "463454                       01001       -23.551337       -46.634027   \n",
       "...                            ...              ...              ...   \n",
       "483660                       99980       -28.390507       -51.847413   \n",
       "21871                        99980       -28.386408       -51.844876   \n",
       "391715                       99980       -28.386239       -51.847741   \n",
       "21867                        99990       -28.329472       -51.769109   \n",
       "299280                       99990       -28.329718       -51.769615   \n",
       "\n",
       "       geolocation_city geolocation_state  \n",
       "278917        sao paulo                SP  \n",
       "93514         sao paulo                SP  \n",
       "647684        sao paulo                SP  \n",
       "186040        são paulo                SP  \n",
       "463454        sao paulo                SP  \n",
       "...                 ...               ...  \n",
       "483660  david canabarro                RS  \n",
       "21871   david canabarro                RS  \n",
       "391715  david canabarro                RS  \n",
       "21867         muliterno                RS  \n",
       "299280        muliterno                RS  \n",
       "\n",
       "[737056 rows x 5 columns]"
      ]
     },
     "execution_count": 30,
     "metadata": {},
     "output_type": "execute_result"
    }
   ],
   "source": [
    "check_one_to_one_mapping(dim_geolocation,\"geolocation_zip_code_prefix\", [\"geolocation_lat\", \"geolocation_lng\"] )"
   ]
  },
  {
   "cell_type": "markdown",
   "id": "f83c8aaa",
   "metadata": {},
   "source": [
    "It appears that one zip code can have different combinations of longtitude latittude, source states that the zip code is the first 5 digits.\n",
    "\n",
    "Therefore, mean of longtitude and latitude will be used as variables for heatmaps for this dataset"
   ]
  },
  {
   "cell_type": "markdown",
   "id": "fd8cd08b",
   "metadata": {},
   "source": [
    "<div class=\"alert alert-block alert-info\">\n",
    "Forming tables for charts"
   ]
  },
  {
   "cell_type": "code",
   "execution_count": 31,
   "id": "4403b7ca",
   "metadata": {},
   "outputs": [],
   "source": [
    "#get buyer city + orders in df\n",
    "orders_customers = pd.merge(\n",
    "    fct_orders,\n",
    "    dim_customers,\n",
    "    how='left',\n",
    "    left_on='customer_sid',\n",
    "    right_on='customer_sid'\n",
    ")\n",
    "\n",
    "#if prices are needed\n",
    "orders_full = pd.merge(\n",
    "    orders_customers,\n",
    "    dim_items[['item_sid', 'price']],\n",
    "    how='left',\n",
    "    left_on='item_sid',\n",
    "    right_on='item_sid'\n",
    ")"
   ]
  },
  {
   "cell_type": "code",
   "execution_count": 32,
   "id": "f1a62deb",
   "metadata": {},
   "outputs": [
    {
     "data": {
      "text/plain": [
       "Index(['payment_sid', 'review_sid', 'item_sid', 'customer_sid', 'order_status',\n",
       "       'order_purchase_timestamp', 'order_approved_at',\n",
       "       'order_delivered_carrier_date', 'order_delivered_customer_date',\n",
       "       'order_estimated_delivery_date', 'TOTAL_PAYMENT', 'customer_unique_id',\n",
       "       'customer_zip_code_prefix', 'customer_city', 'customer_state',\n",
       "       'load_date', 'price'],\n",
       "      dtype='object')"
      ]
     },
     "execution_count": 32,
     "metadata": {},
     "output_type": "execute_result"
    }
   ],
   "source": [
    "orders_full.columns"
   ]
  },
  {
   "cell_type": "code",
   "execution_count": 33,
   "id": "3f03f52b",
   "metadata": {},
   "outputs": [],
   "source": [
    "orders_customers['order_purchase_timestamp'] = pd.to_datetime(orders_customers['order_purchase_timestamp'])\n",
    "orders_customers['year_month'] = orders_full['order_purchase_timestamp'].dt.to_period('M')"
   ]
  },
  {
   "cell_type": "code",
   "execution_count": 34,
   "id": "7fc27368",
   "metadata": {},
   "outputs": [],
   "source": [
    "monthly_city_sales = orders_customers.groupby(['customer_city', 'year_month'])['TOTAL_PAYMENT'].sum().reset_index()"
   ]
  },
  {
   "cell_type": "code",
   "execution_count": 35,
   "id": "8a488e8a",
   "metadata": {},
   "outputs": [
    {
     "data": {
      "text/plain": [
       "year_month\n",
       "2018-10       3\n",
       "2018-09      13\n",
       "2018-08    1270\n",
       "2018-07    1262\n",
       "2018-06    1257\n",
       "2018-05    1337\n",
       "2018-04    1326\n",
       "2018-03    1383\n",
       "2018-02    1325\n",
       "2018-01    1364\n",
       "2017-12    1201\n",
       "2017-11    1421\n",
       "2017-10    1111\n",
       "2017-09    1012\n",
       "2017-08    1006\n",
       "2017-07     973\n",
       "2017-06     817\n",
       "2017-05     940\n",
       "2017-04     696\n",
       "2017-03     772\n",
       "2017-02     576\n",
       "2017-01     381\n",
       "2016-12       1\n",
       "2016-10     183\n",
       "2016-09       4\n",
       "Freq: M, Name: count, dtype: int64"
      ]
     },
     "execution_count": 35,
     "metadata": {},
     "output_type": "execute_result"
    }
   ],
   "source": [
    "monthly_city_sales['year_month'].value_counts().sort_index(ascending=False)"
   ]
  },
  {
   "cell_type": "code",
   "execution_count": 36,
   "id": "545fe496",
   "metadata": {},
   "outputs": [
    {
     "data": {
      "text/html": [
       "<div>\n",
       "<style scoped>\n",
       "    .dataframe tbody tr th:only-of-type {\n",
       "        vertical-align: middle;\n",
       "    }\n",
       "\n",
       "    .dataframe tbody tr th {\n",
       "        vertical-align: top;\n",
       "    }\n",
       "\n",
       "    .dataframe thead th {\n",
       "        text-align: right;\n",
       "    }\n",
       "</style>\n",
       "<table border=\"1\" class=\"dataframe\">\n",
       "  <thead>\n",
       "    <tr style=\"text-align: right;\">\n",
       "      <th></th>\n",
       "      <th>customer_city</th>\n",
       "      <th>year_month</th>\n",
       "      <th>TOTAL_PAYMENT</th>\n",
       "    </tr>\n",
       "  </thead>\n",
       "  <tbody>\n",
       "    <tr>\n",
       "      <th>1954</th>\n",
       "      <td>barra do pirai</td>\n",
       "      <td>2018-09</td>\n",
       "      <td>55.00</td>\n",
       "    </tr>\n",
       "    <tr>\n",
       "      <th>2290</th>\n",
       "      <td>belo horizonte</td>\n",
       "      <td>2018-09</td>\n",
       "      <td>729.82</td>\n",
       "    </tr>\n",
       "    <tr>\n",
       "      <th>3678</th>\n",
       "      <td>campina verde</td>\n",
       "      <td>2018-09</td>\n",
       "      <td>46.20</td>\n",
       "    </tr>\n",
       "    <tr>\n",
       "      <th>9052</th>\n",
       "      <td>itaguai</td>\n",
       "      <td>2018-09</td>\n",
       "      <td>432.32</td>\n",
       "    </tr>\n",
       "    <tr>\n",
       "      <th>10426</th>\n",
       "      <td>joinville</td>\n",
       "      <td>2018-09</td>\n",
       "      <td>52.25</td>\n",
       "    </tr>\n",
       "    <tr>\n",
       "      <th>11993</th>\n",
       "      <td>maua</td>\n",
       "      <td>2018-09</td>\n",
       "      <td>390.77</td>\n",
       "    </tr>\n",
       "    <tr>\n",
       "      <th>13018</th>\n",
       "      <td>nova friburgo</td>\n",
       "      <td>2018-09</td>\n",
       "      <td>84.20</td>\n",
       "    </tr>\n",
       "    <tr>\n",
       "      <th>14967</th>\n",
       "      <td>pirai</td>\n",
       "      <td>2018-09</td>\n",
       "      <td>548.45</td>\n",
       "    </tr>\n",
       "    <tr>\n",
       "      <th>17621</th>\n",
       "      <td>santo andre</td>\n",
       "      <td>2018-09</td>\n",
       "      <td>236.80</td>\n",
       "    </tr>\n",
       "    <tr>\n",
       "      <th>17807</th>\n",
       "      <td>santos</td>\n",
       "      <td>2018-09</td>\n",
       "      <td>94.40</td>\n",
       "    </tr>\n",
       "    <tr>\n",
       "      <th>17882</th>\n",
       "      <td>sao bernardo do campo</td>\n",
       "      <td>2018-09</td>\n",
       "      <td>59.25</td>\n",
       "    </tr>\n",
       "    <tr>\n",
       "      <th>18638</th>\n",
       "      <td>sao luis</td>\n",
       "      <td>2018-09</td>\n",
       "      <td>149.10</td>\n",
       "    </tr>\n",
       "    <tr>\n",
       "      <th>18803</th>\n",
       "      <td>sao paulo</td>\n",
       "      <td>2018-09</td>\n",
       "      <td>65.45</td>\n",
       "    </tr>\n",
       "  </tbody>\n",
       "</table>\n",
       "</div>"
      ],
      "text/plain": [
       "               customer_city year_month  TOTAL_PAYMENT\n",
       "1954          barra do pirai    2018-09          55.00\n",
       "2290          belo horizonte    2018-09         729.82\n",
       "3678           campina verde    2018-09          46.20\n",
       "9052                 itaguai    2018-09         432.32\n",
       "10426              joinville    2018-09          52.25\n",
       "11993                   maua    2018-09         390.77\n",
       "13018          nova friburgo    2018-09          84.20\n",
       "14967                  pirai    2018-09         548.45\n",
       "17621            santo andre    2018-09         236.80\n",
       "17807                 santos    2018-09          94.40\n",
       "17882  sao bernardo do campo    2018-09          59.25\n",
       "18638               sao luis    2018-09         149.10\n",
       "18803              sao paulo    2018-09          65.45"
      ]
     },
     "execution_count": 36,
     "metadata": {},
     "output_type": "execute_result"
    }
   ],
   "source": [
    "monthly_city_sales[monthly_city_sales['year_month'] == \"2018-09\"]"
   ]
  },
  {
   "cell_type": "markdown",
   "id": "1f7633a5",
   "metadata": {},
   "source": [
    "Comments:\n",
    "\n",
    "It is interesting to see very few records for sales on 2018-09, 2018-10. It might be beneficial to verify data collection methods during these 2 months."
   ]
  },
  {
   "cell_type": "markdown",
   "id": "bdcd3a99",
   "metadata": {},
   "source": [
    "data frame for top 5 cities (monthly sales) "
   ]
  },
  {
   "cell_type": "code",
   "execution_count": 37,
   "id": "4388b856",
   "metadata": {},
   "outputs": [
    {
     "data": {
      "text/plain": [
       "['sao paulo', 'rio de janeiro', 'belo horizonte', 'brasilia', 'curitiba']"
      ]
     },
     "execution_count": 37,
     "metadata": {},
     "output_type": "execute_result"
    }
   ],
   "source": [
    "city_no_filter = 5\n",
    "top_cities = (monthly_city_sales.groupby('customer_city')['TOTAL_PAYMENT'].sum().sort_values(ascending=False).head(city_no_filter))\n",
    "top_cities = top_cities.index.tolist()\n",
    "top_cities"
   ]
  },
  {
   "cell_type": "code",
   "execution_count": 38,
   "id": "7027ccef",
   "metadata": {},
   "outputs": [],
   "source": [
    "top_city_sales = monthly_city_sales[monthly_city_sales['customer_city'].isin(top_cities)]"
   ]
  },
  {
   "cell_type": "code",
   "execution_count": 39,
   "id": "6a7c423a",
   "metadata": {},
   "outputs": [
    {
     "data": {
      "text/html": [
       "<div>\n",
       "<style scoped>\n",
       "    .dataframe tbody tr th:only-of-type {\n",
       "        vertical-align: middle;\n",
       "    }\n",
       "\n",
       "    .dataframe tbody tr th {\n",
       "        vertical-align: top;\n",
       "    }\n",
       "\n",
       "    .dataframe thead th {\n",
       "        text-align: right;\n",
       "    }\n",
       "</style>\n",
       "<table border=\"1\" class=\"dataframe\">\n",
       "  <thead>\n",
       "    <tr style=\"text-align: right;\">\n",
       "      <th>customer_city</th>\n",
       "      <th>belo horizonte</th>\n",
       "      <th>brasilia</th>\n",
       "      <th>curitiba</th>\n",
       "      <th>rio de janeiro</th>\n",
       "      <th>sao paulo</th>\n",
       "    </tr>\n",
       "    <tr>\n",
       "      <th>year_month</th>\n",
       "      <th></th>\n",
       "      <th></th>\n",
       "      <th></th>\n",
       "      <th></th>\n",
       "      <th></th>\n",
       "    </tr>\n",
       "  </thead>\n",
       "  <tbody>\n",
       "    <tr>\n",
       "      <th>2016-09</th>\n",
       "      <td>NaN</td>\n",
       "      <td>NaN</td>\n",
       "      <td>NaN</td>\n",
       "      <td>NaN</td>\n",
       "      <td>28.75</td>\n",
       "    </tr>\n",
       "    <tr>\n",
       "      <th>2016-10</th>\n",
       "      <td>1238.20</td>\n",
       "      <td>2360.34</td>\n",
       "      <td>1389.73</td>\n",
       "      <td>3019.85</td>\n",
       "      <td>6484.75</td>\n",
       "    </tr>\n",
       "    <tr>\n",
       "      <th>2017-01</th>\n",
       "      <td>2373.44</td>\n",
       "      <td>2162.21</td>\n",
       "      <td>1099.71</td>\n",
       "      <td>11930.12</td>\n",
       "      <td>17999.69</td>\n",
       "    </tr>\n",
       "    <tr>\n",
       "      <th>2017-02</th>\n",
       "      <td>5568.46</td>\n",
       "      <td>4602.81</td>\n",
       "      <td>4434.23</td>\n",
       "      <td>24309.30</td>\n",
       "      <td>36128.62</td>\n",
       "    </tr>\n",
       "    <tr>\n",
       "      <th>2017-03</th>\n",
       "      <td>12219.22</td>\n",
       "      <td>6139.84</td>\n",
       "      <td>6124.72</td>\n",
       "      <td>33941.80</td>\n",
       "      <td>57865.96</td>\n",
       "    </tr>\n",
       "  </tbody>\n",
       "</table>\n",
       "</div>"
      ],
      "text/plain": [
       "customer_city  belo horizonte  brasilia  curitiba  rio de janeiro  sao paulo\n",
       "year_month                                                                  \n",
       "2016-09                   NaN       NaN       NaN             NaN      28.75\n",
       "2016-10               1238.20   2360.34   1389.73         3019.85    6484.75\n",
       "2017-01               2373.44   2162.21   1099.71        11930.12   17999.69\n",
       "2017-02               5568.46   4602.81   4434.23        24309.30   36128.62\n",
       "2017-03              12219.22   6139.84   6124.72        33941.80   57865.96"
      ]
     },
     "execution_count": 39,
     "metadata": {},
     "output_type": "execute_result"
    }
   ],
   "source": [
    "#shift customer_city to columns\n",
    "pivot_df = top_city_sales.pivot(index='year_month', columns='customer_city', values='TOTAL_PAYMENT')\n",
    "pivot_df.head()\n",
    "\n",
    "#df for top 5 monthly sales trend chart"
   ]
  },
  {
   "cell_type": "markdown",
   "id": "097ca814",
   "metadata": {},
   "source": [
    "<div class=\"alert alert-block alert-info\">\n",
    "Daily sales between 2017-10 and 2018-01"
   ]
  },
  {
   "cell_type": "code",
   "execution_count": 40,
   "id": "0d65df2b",
   "metadata": {},
   "outputs": [
    {
     "data": {
      "text/html": [
       "<div>\n",
       "<style scoped>\n",
       "    .dataframe tbody tr th:only-of-type {\n",
       "        vertical-align: middle;\n",
       "    }\n",
       "\n",
       "    .dataframe tbody tr th {\n",
       "        vertical-align: top;\n",
       "    }\n",
       "\n",
       "    .dataframe thead th {\n",
       "        text-align: right;\n",
       "    }\n",
       "</style>\n",
       "<table border=\"1\" class=\"dataframe\">\n",
       "  <thead>\n",
       "    <tr style=\"text-align: right;\">\n",
       "      <th></th>\n",
       "      <th>order_purchase_timestamp</th>\n",
       "      <th>TOTAL_PAYMENT</th>\n",
       "    </tr>\n",
       "  </thead>\n",
       "  <tbody>\n",
       "    <tr>\n",
       "      <th>0</th>\n",
       "      <td>2017-10-01 00:03:33</td>\n",
       "      <td>42.78</td>\n",
       "    </tr>\n",
       "    <tr>\n",
       "      <th>1</th>\n",
       "      <td>2017-10-01 00:06:09</td>\n",
       "      <td>203.14</td>\n",
       "    </tr>\n",
       "    <tr>\n",
       "      <th>2</th>\n",
       "      <td>2017-10-01 00:15:12</td>\n",
       "      <td>61.01</td>\n",
       "    </tr>\n",
       "    <tr>\n",
       "      <th>3</th>\n",
       "      <td>2017-10-01 00:19:04</td>\n",
       "      <td>52.78</td>\n",
       "    </tr>\n",
       "    <tr>\n",
       "      <th>4</th>\n",
       "      <td>2017-10-01 01:10:18</td>\n",
       "      <td>525.09</td>\n",
       "    </tr>\n",
       "  </tbody>\n",
       "</table>\n",
       "</div>"
      ],
      "text/plain": [
       "  order_purchase_timestamp  TOTAL_PAYMENT\n",
       "0      2017-10-01 00:03:33          42.78\n",
       "1      2017-10-01 00:06:09         203.14\n",
       "2      2017-10-01 00:15:12          61.01\n",
       "3      2017-10-01 00:19:04          52.78\n",
       "4      2017-10-01 01:10:18         525.09"
      ]
     },
     "execution_count": 40,
     "metadata": {},
     "output_type": "execute_result"
    }
   ],
   "source": [
    "\n",
    "fct_orders['order_purchase_timestamp'] = pd.to_datetime(fct_orders['order_purchase_timestamp'])\n",
    "\n",
    "# Filter to delivered orders and desired date range\n",
    "mask = (\n",
    "    (fct_orders['order_status'] == 'delivered') &\n",
    "    (fct_orders['order_purchase_timestamp'] >= '2017-10-01') &\n",
    "    (fct_orders['order_purchase_timestamp'] <= '2018-01-31')\n",
    ")\n",
    "daily_sales = fct_orders[mask].groupby('order_purchase_timestamp')['TOTAL_PAYMENT'].sum().reset_index()\n",
    "daily_sales.head()\n"
   ]
  },
  {
   "cell_type": "markdown",
   "id": "c6c5a3a5",
   "metadata": {},
   "source": [
    "<div class=\"alert alert-block alert-info\">\n",
    "Geomap dataframe"
   ]
  },
  {
   "cell_type": "code",
   "execution_count": 41,
   "id": "5db7dbb0",
   "metadata": {},
   "outputs": [
    {
     "data": {
      "text/html": [
       "<div>\n",
       "<style scoped>\n",
       "    .dataframe tbody tr th:only-of-type {\n",
       "        vertical-align: middle;\n",
       "    }\n",
       "\n",
       "    .dataframe tbody tr th {\n",
       "        vertical-align: top;\n",
       "    }\n",
       "\n",
       "    .dataframe thead th {\n",
       "        text-align: right;\n",
       "    }\n",
       "</style>\n",
       "<table border=\"1\" class=\"dataframe\">\n",
       "  <thead>\n",
       "    <tr style=\"text-align: right;\">\n",
       "      <th></th>\n",
       "      <th>geolocation_lat</th>\n",
       "      <th>geolocation_lng</th>\n",
       "      <th>TOTAL_PAYMENT</th>\n",
       "    </tr>\n",
       "  </thead>\n",
       "  <tbody>\n",
       "    <tr>\n",
       "      <th>0</th>\n",
       "      <td>-33.689890</td>\n",
       "      <td>-53.458838</td>\n",
       "      <td>908.16</td>\n",
       "    </tr>\n",
       "    <tr>\n",
       "      <th>1</th>\n",
       "      <td>-33.520250</td>\n",
       "      <td>-53.356689</td>\n",
       "      <td>2049.67</td>\n",
       "    </tr>\n",
       "    <tr>\n",
       "      <th>2</th>\n",
       "      <td>-32.561073</td>\n",
       "      <td>-53.378161</td>\n",
       "      <td>1242.01</td>\n",
       "    </tr>\n",
       "    <tr>\n",
       "      <th>3</th>\n",
       "      <td>-32.235602</td>\n",
       "      <td>-53.078475</td>\n",
       "      <td>457.84</td>\n",
       "    </tr>\n",
       "    <tr>\n",
       "      <th>4</th>\n",
       "      <td>-32.193451</td>\n",
       "      <td>-52.179281</td>\n",
       "      <td>35.09</td>\n",
       "    </tr>\n",
       "  </tbody>\n",
       "</table>\n",
       "</div>"
      ],
      "text/plain": [
       "   geolocation_lat  geolocation_lng  TOTAL_PAYMENT\n",
       "0       -33.689890       -53.458838         908.16\n",
       "1       -33.520250       -53.356689        2049.67\n",
       "2       -32.561073       -53.378161        1242.01\n",
       "3       -32.235602       -53.078475         457.84\n",
       "4       -32.193451       -52.179281          35.09"
      ]
     },
     "execution_count": 41,
     "metadata": {},
     "output_type": "execute_result"
    }
   ],
   "source": [
    "#Recall that there are multiple latitude longtitude per zip code. So mean of longtitude latitude is used instead\n",
    "\n",
    "zip_centroids = dim_geolocation.groupby('geolocation_zip_code_prefix').agg({\n",
    "    'geolocation_lat': 'mean',\n",
    "    'geolocation_lng': 'mean'\n",
    "}).reset_index()\n",
    "\n",
    "#filter only delivered orders\n",
    "delivered_orders = fct_orders[fct_orders['order_status'] == 'delivered']\n",
    "#merge to get customer zip_code\n",
    "orders_with_zip = pd.merge(delivered_orders, dim_customers[['customer_sid', 'customer_zip_code_prefix']], how='left',on='customer_sid')\n",
    "\n",
    "# Merge with centroids \n",
    "orders_with_geo = pd.merge(\n",
    "    orders_with_zip,\n",
    "    zip_centroids,\n",
    "    left_on='customer_zip_code_prefix',\n",
    "    right_on='geolocation_zip_code_prefix'\n",
    ")\n",
    "geo_sales_heatmap = orders_with_geo.groupby(['geolocation_lat', 'geolocation_lng'])['TOTAL_PAYMENT'].sum().reset_index()\n",
    "geo_sales_heatmap.head()\n",
    "\n",
    "#heatmap df total sales "
   ]
  },
  {
   "cell_type": "code",
   "execution_count": 42,
   "id": "49865a8c",
   "metadata": {},
   "outputs": [],
   "source": [
    "#filters for valid coordinates within brazil\n",
    "\n",
    "geo_sales_heatmap_filtered = geo_sales_heatmap[\n",
    "    (geo_sales_heatmap['geolocation_lng'] >= -74) & (geo_sales_heatmap['geolocation_lng'] <= -34) &\n",
    "    (geo_sales_heatmap['geolocation_lat'] >= -34) & (geo_sales_heatmap['geolocation_lat'] <= 5)].copy()"
   ]
  },
  {
   "cell_type": "markdown",
   "id": "eff571f3",
   "metadata": {},
   "source": [
    "brazil's longtitude range is -74 to -34\n",
    "\n",
    "Latitude: from -34 to +5\n",
    "\n",
    "setting limits for longtitude and latitude"
   ]
  },
  {
   "cell_type": "code",
   "execution_count": 43,
   "id": "f261885d",
   "metadata": {},
   "outputs": [],
   "source": [
    "\n",
    "# Plot major cities for heatmap geo total sales\n",
    "brazil_cities = {\n",
    "    'São Paulo': (-46.6333, -23.5505),\n",
    "    'Rio de Janeiro': (-43.1729, -22.9068),\n",
    "    'Brasília': (-47.9292, -15.7801),\n",
    "    'Salvador': (-38.5011, -12.9714),\n",
    "    'Fortaleza': (-38.5433, -3.7172),\n",
    "    'Manaus': (-60.0258, -3.1019),\n",
    "    'Curitiba': (-49.2731, -25.4284),\n",
    "    'Recife': (-34.8770, -8.0476),\n",
    "    'Porto Alegre': (-51.2300, -30.0346),\n",
    "    'Belo Horizonte': (-43.9345, -19.9167)\n",
    "}"
   ]
  },
  {
   "cell_type": "markdown",
   "id": "f75b2e98",
   "metadata": {},
   "source": [
    "<div class=\"alert alert-block alert-info\">\n",
    "top 10 product category by profit"
   ]
  },
  {
   "cell_type": "markdown",
   "id": "634edbb8",
   "metadata": {},
   "source": [
    "profit is a derived column. (feature engineering)"
   ]
  },
  {
   "cell_type": "code",
   "execution_count": 44,
   "id": "081ddba4",
   "metadata": {},
   "outputs": [
    {
     "data": {
      "text/plain": [
       "Index(['payment_sid', 'review_sid', 'item_sid', 'customer_sid', 'order_status',\n",
       "       'order_purchase_timestamp', 'order_approved_at',\n",
       "       'order_delivered_carrier_date', 'order_delivered_customer_date',\n",
       "       'order_estimated_delivery_date', 'TOTAL_PAYMENT', 'customer_unique_id',\n",
       "       'customer_zip_code_prefix', 'customer_city', 'customer_state',\n",
       "       'load_date', 'price', 'profit'],\n",
       "      dtype='object')"
      ]
     },
     "execution_count": 44,
     "metadata": {},
     "output_type": "execute_result"
    }
   ],
   "source": [
    "orders_full['profit'] = orders_full['TOTAL_PAYMENT'] - orders_full['price']\n",
    "orders_full.columns"
   ]
  },
  {
   "cell_type": "code",
   "execution_count": 45,
   "id": "918122c2",
   "metadata": {},
   "outputs": [],
   "source": [
    "orders_full = orders_full.merge(\n",
    "    dim_items[['item_sid', 'product_category_name_english']],\n",
    "    on='item_sid',\n",
    "    how='left'\n",
    ")\n",
    "# Group by category and sum profit\n",
    "category_profit = orders_full.groupby('product_category_name_english')['profit'].sum().reset_index()\n",
    "\n",
    "#top 10 ctageories\n",
    "top10_cat_profit = category_profit.sort_values('profit', ascending=False).head(10)"
   ]
  },
  {
   "cell_type": "code",
   "execution_count": 46,
   "id": "3eb65f82",
   "metadata": {},
   "outputs": [
    {
     "data": {
      "text/html": [
       "<div>\n",
       "<style scoped>\n",
       "    .dataframe tbody tr th:only-of-type {\n",
       "        vertical-align: middle;\n",
       "    }\n",
       "\n",
       "    .dataframe tbody tr th {\n",
       "        vertical-align: top;\n",
       "    }\n",
       "\n",
       "    .dataframe thead th {\n",
       "        text-align: right;\n",
       "    }\n",
       "</style>\n",
       "<table border=\"1\" class=\"dataframe\">\n",
       "  <thead>\n",
       "    <tr style=\"text-align: right;\">\n",
       "      <th></th>\n",
       "      <th>product_category_name_english</th>\n",
       "      <th>profit</th>\n",
       "    </tr>\n",
       "  </thead>\n",
       "  <tbody>\n",
       "    <tr>\n",
       "      <th>15</th>\n",
       "      <td>computers_accessories</td>\n",
       "      <td>3050509.22</td>\n",
       "    </tr>\n",
       "    <tr>\n",
       "      <th>39</th>\n",
       "      <td>furniture_decor</td>\n",
       "      <td>2442948.47</td>\n",
       "    </tr>\n",
       "    <tr>\n",
       "      <th>7</th>\n",
       "      <td>bed_bath_table</td>\n",
       "      <td>1856596.42</td>\n",
       "    </tr>\n",
       "    <tr>\n",
       "      <th>57</th>\n",
       "      <td>office_furniture</td>\n",
       "      <td>1714557.72</td>\n",
       "    </tr>\n",
       "    <tr>\n",
       "      <th>49</th>\n",
       "      <td>housewares</td>\n",
       "      <td>1664783.85</td>\n",
       "    </tr>\n",
       "  </tbody>\n",
       "</table>\n",
       "</div>"
      ],
      "text/plain": [
       "   product_category_name_english      profit\n",
       "15         computers_accessories  3050509.22\n",
       "39               furniture_decor  2442948.47\n",
       "7                 bed_bath_table  1856596.42\n",
       "57              office_furniture  1714557.72\n",
       "49                    housewares  1664783.85"
      ]
     },
     "execution_count": 46,
     "metadata": {},
     "output_type": "execute_result"
    }
   ],
   "source": [
    "top10_cat_profit.head()"
   ]
  }
 ],
 "metadata": {
  "kernelspec": {
   "display_name": "br_ecom",
   "language": "python",
   "name": "python3"
  },
  "language_info": {
   "codemirror_mode": {
    "name": "ipython",
    "version": 3
   },
   "file_extension": ".py",
   "mimetype": "text/x-python",
   "name": "python",
   "nbconvert_exporter": "python",
   "pygments_lexer": "ipython3",
   "version": "3.11.13"
  }
 },
 "nbformat": 4,
 "nbformat_minor": 5
}
