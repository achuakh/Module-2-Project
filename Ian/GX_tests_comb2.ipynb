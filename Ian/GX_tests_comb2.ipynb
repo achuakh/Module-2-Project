{
 "cells": [
  {
   "cell_type": "code",
   "execution_count": 1,
   "id": "f8534fd8",
   "metadata": {},
   "outputs": [],
   "source": [
    "import numpy as np\n",
    "import pandas as pd\n",
    "import duckdb\n",
    "import sqlalchemy\n",
    "from pandas_gbq import read_gbq"
   ]
  },
  {
   "cell_type": "code",
   "execution_count": 2,
   "id": "e896ed26",
   "metadata": {},
   "outputs": [],
   "source": [
    "import great_expectations as gx\n",
    "from great_expectations import expectations as gxe\n",
    "\n",
    "import pprint\n",
    "import os"
   ]
  },
  {
   "cell_type": "markdown",
   "id": "0fe83c16",
   "metadata": {},
   "source": [
    "<div class=\"alert alert-block alert-info\">\n",
    "data testing"
   ]
  },
  {
   "cell_type": "code",
   "execution_count": 14,
   "id": "d5f95f59",
   "metadata": {},
   "outputs": [
    {
     "name": "stdout",
     "output_type": "stream",
     "text": [
      "Downloading: 100%|\u001b[32m██████████\u001b[0m|\n"
     ]
    }
   ],
   "source": [
    "context = gx.get_context()\n",
    "# query bigquery\n",
    "project_id = \"projectm2-aiess\"\n",
    "query = \"SELECT * FROM olist_brazillian_ecommerce.DIM_CUSTOMERS\"\n",
    "df_customers = read_gbq(query, project_id=project_id)\n",
    "\n",
    "\n",
    "data_source_name = \"olist.dim_customers\"\n",
    "data_source = context.data_sources.add_pandas(name=data_source_name)"
   ]
  },
  {
   "cell_type": "code",
   "execution_count": 15,
   "id": "4a282038",
   "metadata": {},
   "outputs": [],
   "source": [
    "# create asset\n",
    "data_asset_name = \"olist.dim_customers_asset\"\n",
    "data_asset = data_source.add_dataframe_asset(name=data_asset_name)\n"
   ]
  },
  {
   "cell_type": "code",
   "execution_count": 16,
   "id": "e9007350",
   "metadata": {},
   "outputs": [],
   "source": [
    "# create batch\n",
    "batch_definition_name = \"batch_customers_dataframe\"\n",
    "batch_definition = data_asset.add_batch_definition_whole_dataframe(batch_definition_name)\n",
    "\n",
    "batch_parameters = {\"dataframe\": df_customers}\n",
    "\n",
    "new_batch = batch_definition.get_batch(batch_parameters=batch_parameters)"
   ]
  },
  {
   "cell_type": "code",
   "execution_count": 17,
   "id": "2a343663",
   "metadata": {},
   "outputs": [
    {
     "name": "stderr",
     "output_type": "stream",
     "text": [
      "Calculating Metrics: 100%|██████████| 1/1 [00:00<00:00, 304.24it/s] "
     ]
    },
    {
     "name": "stdout",
     "output_type": "stream",
     "text": [
      "                    pk_customer_sid                customer_unique_id  \\\n",
      "0  929cb7b1618f0d99c7814d79b0c5b7cc  3cd07f2cd0e3bd52f3896c0048fb37c7   \n",
      "1  0f32385df13e46d88d997460208bc866  4f67110f6d6d1241111167b141bfa780   \n",
      "2  f34e32b8604090d1c2a7f3b04c834807  785a8a410d6fc9661d66f7218a87229d   \n",
      "3  31dbc13addc753e210692eacaea065e4  5dbba6c01268a8ad43f79157bf4454a0   \n",
      "\n",
      "  customer_zip_code_prefix customer_city customer_state  \\\n",
      "0                    69900    rio branco             AC   \n",
      "1                    69900    rio branco             AC   \n",
      "2                    69900    rio branco             AC   \n",
      "3                    69900    rio branco             AC   \n",
      "\n",
      "                load_date  \n",
      "0  2025-06-17 04:54:24 AM  \n",
      "1  2025-06-17 04:54:24 AM  \n",
      "2  2025-06-17 04:54:24 AM  \n",
      "3  2025-06-17 04:54:24 AM  \n"
     ]
    },
    {
     "name": "stderr",
     "output_type": "stream",
     "text": [
      "\n"
     ]
    }
   ],
   "source": [
    "print(new_batch.head(4))"
   ]
  },
  {
   "cell_type": "code",
   "execution_count": 18,
   "id": "3a198ef9",
   "metadata": {},
   "outputs": [],
   "source": [
    "# Create a new suite for all dimension tables schema validation\n",
    "suite_name = \"schema_dim_customers_expectation\"\n",
    "suite = gx.ExpectationSuite(name=suite_name)\n",
    "\n",
    "schema_dim_customers_expectation = gx.expectations.ExpectColumnToExist(\n",
    "    column=\"customer_sid\", column_index=0\n",
    ")\n",
    "\n",
    "context.suites.add_or_update(suite)\n",
    "suite.add_expectation(schema_dim_customers_expectation)\n",
    "\n",
    "definition_name = \"schema_dim_customers_definition\"\n",
    "validation_definition = gx.ValidationDefinition(\n",
    "    data=batch_definition, suite=suite, name=definition_name\n",
    ")"
   ]
  },
  {
   "cell_type": "code",
   "execution_count": 19,
   "id": "092ddc4e",
   "metadata": {},
   "outputs": [
    {
     "name": "stderr",
     "output_type": "stream",
     "text": [
      "Calculating Metrics: 100%|██████████| 2/2 [00:00<00:00, 490.13it/s] "
     ]
    },
    {
     "name": "stdout",
     "output_type": "stream",
     "text": [
      "{\n",
      "  \"success\": false,\n",
      "  \"results\": [\n",
      "    {\n",
      "      \"success\": false,\n",
      "      \"expectation_config\": {\n",
      "        \"type\": \"expect_column_to_exist\",\n",
      "        \"kwargs\": {\n",
      "          \"batch_id\": \"olist.dim_customers-olist.dim_customers_asset\",\n",
      "          \"column\": \"customer_sid\",\n",
      "          \"column_index\": 0\n",
      "        },\n",
      "        \"meta\": {},\n",
      "        \"id\": \"f01884da-28cb-45bb-9c0e-05c7d4764bfe\"\n",
      "      },\n",
      "      \"result\": {},\n",
      "      \"meta\": {},\n",
      "      \"exception_info\": {\n",
      "        \"raised_exception\": false,\n",
      "        \"exception_traceback\": null,\n",
      "        \"exception_message\": null\n",
      "      }\n",
      "    }\n",
      "  ],\n",
      "  \"suite_name\": \"schema_dim_customers_expectation\",\n",
      "  \"suite_parameters\": {},\n",
      "  \"statistics\": {\n",
      "    \"evaluated_expectations\": 1,\n",
      "    \"successful_expectations\": 0,\n",
      "    \"unsuccessful_expectations\": 1,\n",
      "    \"success_percent\": 0.0\n",
      "  },\n",
      "  \"meta\": {\n",
      "    \"great_expectations_version\": \"1.5.1\",\n",
      "    \"batch_spec\": {\n",
      "      \"batch_data\": \"PandasDataFrame\"\n",
      "    },\n",
      "    \"batch_markers\": {\n",
      "      \"ge_load_time\": \"20250617T045505.450707Z\",\n",
      "      \"pandas_data_fingerprint\": \"e2c6950f4e2d91de0060e2716620a72e\"\n",
      "    },\n",
      "    \"active_batch_definition\": {\n",
      "      \"datasource_name\": \"olist.dim_customers\",\n",
      "      \"data_connector_name\": \"fluent\",\n",
      "      \"data_asset_name\": \"olist.dim_customers_asset\",\n",
      "      \"batch_identifiers\": {\n",
      "        \"dataframe\": \"<DATAFRAME>\"\n",
      "      }\n",
      "    },\n",
      "    \"validation_id\": \"2a598ad4-aaa6-4a7b-bc96-d44f86bdf6ab\",\n",
      "    \"checkpoint_id\": null,\n",
      "    \"run_id\": {\n",
      "      \"run_name\": null,\n",
      "      \"run_time\": \"2025-06-17T12:55:05.568285+08:00\"\n",
      "    },\n",
      "    \"validation_time\": \"2025-06-17T04:55:05.568285+00:00\",\n",
      "    \"batch_parameters\": {\n",
      "      \"dataframe\": \"<DATAFRAME>\"\n",
      "    }\n",
      "  },\n",
      "  \"id\": null\n",
      "}\n"
     ]
    },
    {
     "name": "stderr",
     "output_type": "stream",
     "text": [
      "\n"
     ]
    }
   ],
   "source": [
    "validation_results = validation_definition.run(batch_parameters=batch_parameters)\n",
    "print(validation_results)"
   ]
  },
  {
   "cell_type": "code",
   "execution_count": 20,
   "id": "77a95ca6",
   "metadata": {},
   "outputs": [
    {
     "name": "stdout",
     "output_type": "stream",
     "text": [
      " Full GX test results saved to gx_output/gx_results_customers.txt\n"
     ]
    }
   ],
   "source": [
    "# Save full results to file\n",
    "output_folder = \"gx_output\"\n",
    "os.makedirs(output_folder, exist_ok=True)\n",
    "result_path = os.path.join(output_folder, \"gx_results_customers.txt\")\n",
    "\n",
    "with open(result_path, \"w\") as f:\n",
    "    f.write(pprint.pformat(validation_results))\n",
    "\n",
    "print(f\" Full GX test results saved to {result_path}\")\n"
   ]
  },
  {
   "cell_type": "code",
   "execution_count": 29,
   "id": "d7aaa0cb",
   "metadata": {},
   "outputs": [
    {
     "name": "stdout",
     "output_type": "stream",
     "text": [
      "Downloading: 100%|\u001b[32m██████████\u001b[0m|\n"
     ]
    },
    {
     "name": "stderr",
     "output_type": "stream",
     "text": [
      "Calculating Metrics: 100%|██████████| 1/1 [00:00<00:00, 341.72it/s] \n"
     ]
    },
    {
     "name": "stdout",
     "output_type": "stream",
     "text": [
      "Downloading: 100%|\u001b[32m██████████\u001b[0m|\n"
     ]
    },
    {
     "name": "stderr",
     "output_type": "stream",
     "text": [
      "Calculating Metrics: 100%|██████████| 1/1 [00:00<00:00, 405.01it/s] \n"
     ]
    },
    {
     "name": "stdout",
     "output_type": "stream",
     "text": [
      "Downloading: 100%|\u001b[32m██████████\u001b[0m|\n"
     ]
    },
    {
     "name": "stderr",
     "output_type": "stream",
     "text": [
      "Calculating Metrics:  50%|█████     | 5/10 [00:00<00:00, 20.91it/s]  \n"
     ]
    },
    {
     "name": "stdout",
     "output_type": "stream",
     "text": [
      "Downloading: 100%|\u001b[32m██████████\u001b[0m|\n"
     ]
    },
    {
     "name": "stderr",
     "output_type": "stream",
     "text": [
      "Calculating Metrics: 100%|██████████| 1/1 [00:00<00:00, 319.61it/s] \n"
     ]
    },
    {
     "name": "stdout",
     "output_type": "stream",
     "text": [
      "Downloading: 100%|\u001b[32m██████████\u001b[0m|\n"
     ]
    },
    {
     "name": "stderr",
     "output_type": "stream",
     "text": [
      "Calculating Metrics: 100%|██████████| 1/1 [00:00<00:00, 291.31it/s] "
     ]
    },
    {
     "name": "stdout",
     "output_type": "stream",
     "text": [
      "Combined gx dytppe test results saved to gx_output/gx_dtype_summary.txt\n"
     ]
    },
    {
     "name": "stderr",
     "output_type": "stream",
     "text": [
      "\n"
     ]
    }
   ],
   "source": [
    "context = gx.get_context()\n",
    "# List of GBQ tables and their expected columns with types\n",
    "gbq_tables_with_columns_and_types = {\n",
    "    \"olist_brazillian_ecommerce.DIM_PAYMENTS\": {\"payment_sid\": \"string\"},\n",
    "    \"olist_brazillian_ecommerce.DIM_REVIEWS\": {\"review_sid\": \"string\"},\n",
    "    \"olist_brazillian_ecommerce.DIM_GEOLOCATION\": {\"geolocation_zip_code_prefix\": \"string\"},\n",
    "    \"olist_brazillian_ecommerce.DIM_ORDER_ITEMS\": {\"item_sid\": \"string\"},\n",
    "    \"olist_brazillian_ecommerce.DIM_DATE\": {\"date_sid\": \"integer\"},\n",
    "}\n",
    "\n",
    "output_folder = \"gx_output\"\n",
    "os.makedirs(output_folder, exist_ok=True)\n",
    "summary_file_path = os.path.join(output_folder, \"gx_dtype_summary.txt\")\n",
    "\n",
    "with open(summary_file_path, \"w\") as f:\n",
    "    f.write(\"Great Expectations Full Validation Results\\n\")\n",
    "    f.write(\"=\" * 60 + \"\\n\\n\")\n",
    "\n",
    " # Iterate over the list of tables and process each one   \n",
    "    for table_name, expected_columns in gbq_tables_with_columns_and_types.items():\n",
    "        query = f\"SELECT * FROM {table_name}\"\n",
    "        df_table = read_gbq(query, project_id=\"projectm2-aiess\")\n",
    "\n",
    "        # Generate unique names for data source and asset\n",
    "        data_source_name = f\"{table_name}_data_source\"\n",
    "        asset_name = f\"{table_name}_asset\"\n",
    "\n",
    "        # Add data source\n",
    "        data_source = context.data_sources.add_pandas(name=data_source_name)\n",
    "        # Add DataFrame asset\n",
    "        data_asset = data_source.add_dataframe_asset(name=asset_name)\n",
    "        # Add batch definition\n",
    "        batch_definition = data_asset.add_batch_definition_whole_dataframe(table_name)\n",
    "        batch_parameters = {\"dataframe\": df_table}\n",
    "        batch = batch_definition.get_batch(batch_parameters=batch_parameters)\n",
    "\n",
    "        # Create Expectation Suite\n",
    "        suite_name = f\"{table_name}_suite\"\n",
    "        suite = gx.ExpectationSuite(name=suite_name)\n",
    "        suite = context.suites.add(suite)\n",
    "        # Add ExpectColumnValuesToBeOfType expectations for each expected column\n",
    "        for column, column_type in expected_columns.items():\n",
    "            expectation = gx.expectations.ExpectColumnValuesToBeOfType(\n",
    "                column=column, type_=column_type\n",
    "            )\n",
    "            suite.add_expectation(expectation)\n",
    "\n",
    "        validation_definition = gx.ValidationDefinition(\n",
    "            data=batch_definition, suite=suite, name=f\"{table_name}_validation\"\n",
    "        )\n",
    "        results = validation_definition.run(batch_parameters=batch_parameters)\n",
    "\n",
    "        f.write(f\"Table: {table_name}\\n\")\n",
    "        #f.write(pprint.pformat(results))\n",
    "        f.write(f\"Table: {table_name}\\n\")\n",
    "        f.write(\"-\" * 60 + \"\\n\")\n",
    "\n",
    "        for result in results.results:\n",
    "            expectation_type = result.expectation_config.type\n",
    "            kwargs = result.expectation_config.kwargs\n",
    "            column = kwargs.get(\"column\")\n",
    "            expected_type = kwargs.get(\"type_\")\n",
    "            status = \"PASSED\" if result.success else \"FAILED\"\n",
    "            f.write(\n",
    "                f\"{expectation_type} on column '{column}'\"\n",
    "                f\" (expected type: {expected_type}): {status}\\n\"\n",
    "            )\n",
    "\n",
    "        f.write(\"\\n\\n\")\n",
    "\n",
    "print(f\"Combined gx dytppe test results saved to {summary_file_path}\")\n"
   ]
  },
  {
   "cell_type": "code",
   "execution_count": 28,
   "id": "7965df76",
   "metadata": {},
   "outputs": [
    {
     "name": "stdout",
     "output_type": "stream",
     "text": [
      "Downloading: 100%|\u001b[32m██████████\u001b[0m|\n",
      "Batch for olist_brazillian_ecommerce.FCT_ORDERS:\n"
     ]
    },
    {
     "name": "stderr",
     "output_type": "stream",
     "text": [
      "Calculating Metrics: 100%|██████████| 1/1 [00:00<00:00, 370.75it/s] "
     ]
    },
    {
     "name": "stdout",
     "output_type": "stream",
     "text": [
      "                        pk_order_id                       pk_item_sid  \\\n",
      "0  a2e4c44360b4a57bdff22f3a4630c173  a2e4c44360b4a57bdff22f3a4630c173   \n",
      "1  132f1e724165a07f6362532bfb97486e  132f1e724165a07f6362532bfb97486e   \n",
      "2  809a282bbd5dbcabb6f2f724fca862ec  809a282bbd5dbcabb6f2f724fca862ec   \n",
      "3  e5215415bb6f76fe3b7cb68103a0d1c0  e5215415bb6f76fe3b7cb68103a0d1c0   \n",
      "\n",
      "                     fk_payment_sid                     fk_review_sid  \\\n",
      "0  a2e4c44360b4a57bdff22f3a4630c173  a2e4c44360b4a57bdff22f3a4630c173   \n",
      "1  132f1e724165a07f6362532bfb97486e  132f1e724165a07f6362532bfb97486e   \n",
      "2  809a282bbd5dbcabb6f2f724fca862ec  809a282bbd5dbcabb6f2f724fca862ec   \n",
      "3  e5215415bb6f76fe3b7cb68103a0d1c0  e5215415bb6f76fe3b7cb68103a0d1c0   \n",
      "\n",
      "                    fk_customer_sid fk_order_purchased_date_sid  \\\n",
      "0  8886130db0ea6e9e70ba0b03d7c0d286                    20170206   \n",
      "1  b2191912d8ad6eac2e4dc3b6e1459515                    20170425   \n",
      "2  622e13439d6b5a0b486c435618b2679e                    20160913   \n",
      "3  b6f6cbfc126f1ae6723fe2f9b3751208                    20161022   \n",
      "\n",
      "  fk_order_approved_at_date_sid fk_order_delivered_carrier_date_sid  \\\n",
      "0                      20170206                                None   \n",
      "1                      20170430                                None   \n",
      "2                      20161007                                None   \n",
      "3                          None                                None   \n",
      "\n",
      "  fk_order_delivered_customer_date_sid fk_order_estimated_delivery_date_sid  \\\n",
      "0                                 None                             20170301   \n",
      "1                                 None                             20170522   \n",
      "2                                 None                             20160930   \n",
      "3                                 None                             20161024   \n",
      "\n",
      "   ... freight_amt  total_order_amt_wf_freight  balance_amt  \\\n",
      "0  ...       21.92                       61.62          0.0   \n",
      "1  ...        9.56                      179.46          0.0   \n",
      "2  ...         NaN                         NaN          NaN   \n",
      "3  ...         NaN                         NaN          NaN   \n",
      "\n",
      "          payment_status  order_purchase_timestamp         order_approved_at  \\\n",
      "0            in progress 2017-02-06 20:18:17+00:00 2017-02-06 20:30:19+00:00   \n",
      "1              completed 2017-04-25 01:25:34+00:00 2017-04-30 20:32:41+00:00   \n",
      "2  order items not found 2016-09-13 15:24:19+00:00 2016-10-07 13:16:46+00:00   \n",
      "3  order items not found 2016-10-22 08:25:27+00:00                       NaT   \n",
      "\n",
      "  order_delivered_carrier_date order_delivered_customer_date  \\\n",
      "0                          NaT                           NaT   \n",
      "1                          NaT                           NaT   \n",
      "2                          NaT                           NaT   \n",
      "3                          NaT                           NaT   \n",
      "\n",
      "  order_estimated_delivery_date               load_date  \n",
      "0     2017-03-01 00:00:00+00:00  2025-06-17 05:40:30 AM  \n",
      "1     2017-05-22 00:00:00+00:00  2025-06-17 05:40:30 AM  \n",
      "2     2016-09-30 00:00:00+00:00  2025-06-17 05:40:30 AM  \n",
      "3     2016-10-24 00:00:00+00:00  2025-06-17 05:40:30 AM  \n",
      "\n",
      "[4 rows x 23 columns]\n"
     ]
    },
    {
     "name": "stderr",
     "output_type": "stream",
     "text": [
      "\n"
     ]
    },
    {
     "ename": "BuildBatchRequestError",
     "evalue": "Bad input to build_batch_request: options must contain exactly 1 key, 'dataframe'.",
     "output_type": "error",
     "traceback": [
      "\u001b[31m---------------------------------------------------------------------------\u001b[39m",
      "\u001b[31mBuildBatchRequestError\u001b[39m                    Traceback (most recent call last)",
      "\u001b[36mCell\u001b[39m\u001b[36m \u001b[39m\u001b[32mIn[28]\u001b[39m\u001b[32m, line 60\u001b[39m\n\u001b[32m     55\u001b[39m validation_definition = gx.ValidationDefinition(\n\u001b[32m     56\u001b[39m     data=batch_definition, suite=suite, name=definition_name\n\u001b[32m     57\u001b[39m )\n\u001b[32m     59\u001b[39m \u001b[38;5;66;03m# Run validation\u001b[39;00m\n\u001b[32m---> \u001b[39m\u001b[32m60\u001b[39m validation_results = \u001b[43mvalidation_definition\u001b[49m\u001b[43m.\u001b[49m\u001b[43mrun\u001b[49m\u001b[43m(\u001b[49m\u001b[43m)\u001b[49m\n\u001b[32m     61\u001b[39m \u001b[38;5;28mprint\u001b[39m(\u001b[33mf\u001b[39m\u001b[33m\"\u001b[39m\u001b[33mValidation results for \u001b[39m\u001b[38;5;132;01m{\u001b[39;00mfact_table_name\u001b[38;5;132;01m}\u001b[39;00m\u001b[33m:\u001b[39m\u001b[33m\"\u001b[39m)\n\u001b[32m     62\u001b[39m \u001b[38;5;28mprint\u001b[39m(validation_results)\n",
      "\u001b[36mFile \u001b[39m\u001b[32m~/miniconda3/envs/dagster_meltano/lib/python3.11/site-packages/great_expectations/core/validation_definition.py:296\u001b[39m, in \u001b[36mValidationDefinition.run\u001b[39m\u001b[34m(self, checkpoint_id, batch_parameters, expectation_parameters, result_format, run_id)\u001b[39m\n\u001b[32m    289\u001b[39m         diagnostics.raise_for_error()\n\u001b[32m    291\u001b[39m validator = Validator(\n\u001b[32m    292\u001b[39m     batch_definition=\u001b[38;5;28mself\u001b[39m.batch_definition,\n\u001b[32m    293\u001b[39m     batch_parameters=batch_parameters,\n\u001b[32m    294\u001b[39m     result_format=result_format,\n\u001b[32m    295\u001b[39m )\n\u001b[32m--> \u001b[39m\u001b[32m296\u001b[39m results = \u001b[43mvalidator\u001b[49m\u001b[43m.\u001b[49m\u001b[43mvalidate_expectation_suite\u001b[49m\u001b[43m(\u001b[49m\u001b[38;5;28;43mself\u001b[39;49m\u001b[43m.\u001b[49m\u001b[43msuite\u001b[49m\u001b[43m,\u001b[49m\u001b[43m \u001b[49m\u001b[43mexpectation_parameters\u001b[49m\u001b[43m)\u001b[49m\n\u001b[32m    297\u001b[39m results.meta[\u001b[33m\"\u001b[39m\u001b[33mvalidation_id\u001b[39m\u001b[33m\"\u001b[39m] = \u001b[38;5;28mself\u001b[39m.id\n\u001b[32m    298\u001b[39m results.meta[\u001b[33m\"\u001b[39m\u001b[33mcheckpoint_id\u001b[39m\u001b[33m\"\u001b[39m] = checkpoint_id\n",
      "\u001b[36mFile \u001b[39m\u001b[32m~/miniconda3/envs/dagster_meltano/lib/python3.11/site-packages/great_expectations/validator/v1_validator.py:71\u001b[39m, in \u001b[36mValidator.validate_expectation_suite\u001b[39m\u001b[34m(self, expectation_suite, expectation_parameters)\u001b[39m\n\u001b[32m     65\u001b[39m \u001b[38;5;28;01mdef\u001b[39;00m\u001b[38;5;250m \u001b[39m\u001b[34mvalidate_expectation_suite\u001b[39m(\n\u001b[32m     66\u001b[39m     \u001b[38;5;28mself\u001b[39m,\n\u001b[32m     67\u001b[39m     expectation_suite: ExpectationSuite,\n\u001b[32m     68\u001b[39m     expectation_parameters: Optional[SuiteParameterDict] = \u001b[38;5;28;01mNone\u001b[39;00m,\n\u001b[32m     69\u001b[39m ) -> ExpectationSuiteValidationResult:\n\u001b[32m     70\u001b[39m \u001b[38;5;250m    \u001b[39m\u001b[33;03m\"\"\"Run an expectation suite against the batch definition\"\"\"\u001b[39;00m\n\u001b[32m---> \u001b[39m\u001b[32m71\u001b[39m     results = \u001b[38;5;28;43mself\u001b[39;49m\u001b[43m.\u001b[49m\u001b[43m_validate_expectation_configs\u001b[49m\u001b[43m(\u001b[49m\n\u001b[32m     72\u001b[39m \u001b[43m        \u001b[49m\u001b[43mexpectation_configs\u001b[49m\u001b[43m=\u001b[49m\u001b[43mexpectation_suite\u001b[49m\u001b[43m.\u001b[49m\u001b[43mexpectation_configurations\u001b[49m\u001b[43m,\u001b[49m\n\u001b[32m     73\u001b[39m \u001b[43m        \u001b[49m\u001b[43mexpectation_parameters\u001b[49m\u001b[43m=\u001b[49m\u001b[43mexpectation_parameters\u001b[49m\u001b[43m,\u001b[49m\n\u001b[32m     74\u001b[39m \u001b[43m    \u001b[49m\u001b[43m)\u001b[49m\n\u001b[32m     75\u001b[39m     statistics = calc_validation_statistics(results)\n\u001b[32m     77\u001b[39m     \u001b[38;5;28;01mreturn\u001b[39;00m ExpectationSuiteValidationResult(\n\u001b[32m     78\u001b[39m         results=results,\n\u001b[32m     79\u001b[39m         success=statistics.success,\n\u001b[32m   (...)\u001b[39m\u001b[32m     99\u001b[39m         batch_id=\u001b[38;5;28mself\u001b[39m.active_batch_id,\n\u001b[32m    100\u001b[39m     )\n",
      "\u001b[36mFile \u001b[39m\u001b[32m~/miniconda3/envs/dagster_meltano/lib/python3.11/site-packages/great_expectations/validator/v1_validator.py:123\u001b[39m, in \u001b[36mValidator._validate_expectation_configs\u001b[39m\u001b[34m(self, expectation_configs, expectation_parameters)\u001b[39m\n\u001b[32m    117\u001b[39m \u001b[38;5;28;01mdef\u001b[39;00m\u001b[38;5;250m \u001b[39m\u001b[34m_validate_expectation_configs\u001b[39m(\n\u001b[32m    118\u001b[39m     \u001b[38;5;28mself\u001b[39m,\n\u001b[32m    119\u001b[39m     expectation_configs: \u001b[38;5;28mlist\u001b[39m[ExpectationConfiguration],\n\u001b[32m    120\u001b[39m     expectation_parameters: Optional[SuiteParameterDict] = \u001b[38;5;28;01mNone\u001b[39;00m,\n\u001b[32m    121\u001b[39m ) -> \u001b[38;5;28mlist\u001b[39m[ExpectationValidationResult]:\n\u001b[32m    122\u001b[39m \u001b[38;5;250m    \u001b[39m\u001b[33;03m\"\"\"Run a list of expectation configurations against the batch definition\"\"\"\u001b[39;00m\n\u001b[32m--> \u001b[39m\u001b[32m123\u001b[39m     processed_expectation_configs = \u001b[38;5;28;43mself\u001b[39;49m\u001b[43m.\u001b[49m\u001b[43m_wrapped_validator\u001b[49m.process_expectations_for_validation(\n\u001b[32m    124\u001b[39m         expectation_configs, expectation_parameters\n\u001b[32m    125\u001b[39m     )\n\u001b[32m    127\u001b[39m     runtime_configuration: \u001b[38;5;28mdict\u001b[39m\n\u001b[32m    128\u001b[39m     \u001b[38;5;28;01mif\u001b[39;00m \u001b[38;5;28misinstance\u001b[39m(\u001b[38;5;28mself\u001b[39m.result_format, ResultFormat):\n",
      "\u001b[36mFile \u001b[39m\u001b[32m~/miniconda3/envs/dagster_meltano/lib/python3.11/functools.py:1001\u001b[39m, in \u001b[36mcached_property.__get__\u001b[39m\u001b[34m(self, instance, owner)\u001b[39m\n\u001b[32m    999\u001b[39m val = cache.get(\u001b[38;5;28mself\u001b[39m.attrname, _NOT_FOUND)\n\u001b[32m   1000\u001b[39m \u001b[38;5;28;01mif\u001b[39;00m val \u001b[38;5;129;01mis\u001b[39;00m _NOT_FOUND:\n\u001b[32m-> \u001b[39m\u001b[32m1001\u001b[39m     val = \u001b[38;5;28;43mself\u001b[39;49m\u001b[43m.\u001b[49m\u001b[43mfunc\u001b[49m\u001b[43m(\u001b[49m\u001b[43minstance\u001b[49m\u001b[43m)\u001b[49m\n\u001b[32m   1002\u001b[39m     \u001b[38;5;28;01mtry\u001b[39;00m:\n\u001b[32m   1003\u001b[39m         cache[\u001b[38;5;28mself\u001b[39m.attrname] = val\n",
      "\u001b[36mFile \u001b[39m\u001b[32m~/miniconda3/envs/dagster_meltano/lib/python3.11/site-packages/great_expectations/validator/v1_validator.py:112\u001b[39m, in \u001b[36mValidator._wrapped_validator\u001b[39m\u001b[34m(self)\u001b[39m\n\u001b[32m    110\u001b[39m \u001b[38;5;129m@cached_property\u001b[39m\n\u001b[32m    111\u001b[39m \u001b[38;5;28;01mdef\u001b[39;00m\u001b[38;5;250m \u001b[39m\u001b[34m_wrapped_validator\u001b[39m(\u001b[38;5;28mself\u001b[39m) -> OldValidator:\n\u001b[32m--> \u001b[39m\u001b[32m112\u001b[39m     batch_request = \u001b[38;5;28;43mself\u001b[39;49m\u001b[43m.\u001b[49m\u001b[43m_batch_definition\u001b[49m\u001b[43m.\u001b[49m\u001b[43mbuild_batch_request\u001b[49m\u001b[43m(\u001b[49m\n\u001b[32m    113\u001b[39m \u001b[43m        \u001b[49m\u001b[43mbatch_parameters\u001b[49m\u001b[43m=\u001b[49m\u001b[38;5;28;43mself\u001b[39;49m\u001b[43m.\u001b[49m\u001b[43m_batch_parameters\u001b[49m\n\u001b[32m    114\u001b[39m \u001b[43m    \u001b[49m\u001b[43m)\u001b[49m\n\u001b[32m    115\u001b[39m     \u001b[38;5;28;01mreturn\u001b[39;00m \u001b[38;5;28mself\u001b[39m._get_validator(batch_request=batch_request)\n",
      "\u001b[36mFile \u001b[39m\u001b[32m~/miniconda3/envs/dagster_meltano/lib/python3.11/site-packages/great_expectations/core/batch_definition.py:67\u001b[39m, in \u001b[36mBatchDefinition.build_batch_request\u001b[39m\u001b[34m(self, batch_parameters)\u001b[39m\n\u001b[32m     63\u001b[39m \u001b[38;5;28;01mdef\u001b[39;00m\u001b[38;5;250m \u001b[39m\u001b[34mbuild_batch_request\u001b[39m(\n\u001b[32m     64\u001b[39m     \u001b[38;5;28mself\u001b[39m, batch_parameters: Optional[BatchParameters] = \u001b[38;5;28;01mNone\u001b[39;00m\n\u001b[32m     65\u001b[39m ) -> BatchRequest[PartitionerT]:\n\u001b[32m     66\u001b[39m \u001b[38;5;250m    \u001b[39m\u001b[33;03m\"\"\"Build a BatchRequest from the asset and batch parameters.\"\"\"\u001b[39;00m\n\u001b[32m---> \u001b[39m\u001b[32m67\u001b[39m     \u001b[38;5;28;01mreturn\u001b[39;00m \u001b[38;5;28;43mself\u001b[39;49m\u001b[43m.\u001b[49m\u001b[43mdata_asset\u001b[49m\u001b[43m.\u001b[49m\u001b[43mbuild_batch_request\u001b[49m\u001b[43m(\u001b[49m\n\u001b[32m     68\u001b[39m \u001b[43m        \u001b[49m\u001b[43moptions\u001b[49m\u001b[43m=\u001b[49m\u001b[43mbatch_parameters\u001b[49m\u001b[43m,\u001b[49m\n\u001b[32m     69\u001b[39m \u001b[43m        \u001b[49m\u001b[43mpartitioner\u001b[49m\u001b[43m=\u001b[49m\u001b[38;5;28;43mself\u001b[39;49m\u001b[43m.\u001b[49m\u001b[43mpartitioner\u001b[49m\u001b[43m,\u001b[49m\n\u001b[32m     70\u001b[39m \u001b[43m    \u001b[49m\u001b[43m)\u001b[49m\n",
      "\u001b[36mFile \u001b[39m\u001b[32m~/miniconda3/envs/dagster_meltano/lib/python3.11/site-packages/great_expectations/datasource/fluent/pandas_datasource.py:420\u001b[39m, in \u001b[36mDataFrameAsset.build_batch_request\u001b[39m\u001b[34m(self, options, batch_slice, partitioner)\u001b[39m\n\u001b[32m    414\u001b[39m     \u001b[38;5;28;01mraise\u001b[39;00m BuildBatchRequestError(\n\u001b[32m    415\u001b[39m         message=\u001b[33m\"\u001b[39m\u001b[33mpartitioner is not currently supported  for this DataAsset\u001b[39m\u001b[33m\"\u001b[39m\n\u001b[32m    416\u001b[39m         \u001b[33m\"\u001b[39m\u001b[33mand must be None.\u001b[39m\u001b[33m\"\u001b[39m\n\u001b[32m    417\u001b[39m     )\n\u001b[32m    419\u001b[39m \u001b[38;5;28;01mif\u001b[39;00m \u001b[38;5;129;01mnot\u001b[39;00m (options \u001b[38;5;129;01mis\u001b[39;00m \u001b[38;5;129;01mnot\u001b[39;00m \u001b[38;5;28;01mNone\u001b[39;00m \u001b[38;5;129;01mand\u001b[39;00m \u001b[33m\"\u001b[39m\u001b[33mdataframe\u001b[39m\u001b[33m\"\u001b[39m \u001b[38;5;129;01min\u001b[39;00m options \u001b[38;5;129;01mand\u001b[39;00m \u001b[38;5;28mlen\u001b[39m(options) == \u001b[32m1\u001b[39m):\n\u001b[32m--> \u001b[39m\u001b[32m420\u001b[39m     \u001b[38;5;28;01mraise\u001b[39;00m BuildBatchRequestError(message=\u001b[33m\"\u001b[39m\u001b[33moptions must contain exactly 1 key, \u001b[39m\u001b[33m'\u001b[39m\u001b[33mdataframe\u001b[39m\u001b[33m'\u001b[39m\u001b[33m.\u001b[39m\u001b[33m\"\u001b[39m)\n\u001b[32m    422\u001b[39m \u001b[38;5;28;01mif\u001b[39;00m \u001b[38;5;129;01mnot\u001b[39;00m \u001b[38;5;28misinstance\u001b[39m(options[\u001b[33m\"\u001b[39m\u001b[33mdataframe\u001b[39m\u001b[33m\"\u001b[39m], pd.DataFrame):\n\u001b[32m    423\u001b[39m     \u001b[38;5;28;01mraise\u001b[39;00m BuildBatchRequestError(\n\u001b[32m    424\u001b[39m         message=\u001b[33m\"\u001b[39m\u001b[33mCannot build batch request for dataframe asset without a dataframe\u001b[39m\u001b[33m\"\u001b[39m\n\u001b[32m    425\u001b[39m     )\n",
      "\u001b[31mBuildBatchRequestError\u001b[39m: Bad input to build_batch_request: options must contain exactly 1 key, 'dataframe'."
     ]
    }
   ],
   "source": [
    "context = gx.get_context()\n",
    "\n",
    "# Query the fact table from GBQ\n",
    "project_id = \"projectm2-aiess\"\n",
    "fact_table_name = \"olist_brazillian_ecommerce.FCT_ORDERS\"\n",
    "query = f\"SELECT * FROM {fact_table_name}\"\n",
    "df_fact_table = read_gbq(query, project_id=project_id)\n",
    "\n",
    "# Generate unique names for data source and asset\n",
    "data_source_name = f\"{fact_table_name}_data_source\"\n",
    "asset_name = f\"{fact_table_name}_asset\"\n",
    "\n",
    "# Add data source\n",
    "data_source = context.data_sources.add_pandas(name=data_source_name)\n",
    "\n",
    "# Add DataFrame asset\n",
    "data_asset = data_source.add_dataframe_asset(name=asset_name)\n",
    "\n",
    "# Add batch definition\n",
    "batch_definition_name = fact_table_name\n",
    "batch_definition = data_asset.add_batch_definition_whole_dataframe(batch_definition_name)\n",
    "\n",
    "# Get the batch and print the first few rows\n",
    "batch_parameters = {\"dataframe\": df_fact_table}\n",
    "batch = batch_definition.get_batch(batch_parameters=batch_parameters)\n",
    "print(f\"Batch for {fact_table_name}:\")\n",
    "print(batch.head(4))\n",
    "\n",
    "# Add column expectations\n",
    "schema_fct_orders_expectation_1 = gx.expectations.ExpectColumnToExist(\n",
    "    column=\"payment_sid\", column_index=0\n",
    ")\n",
    "schema_fct_orders_expectation_2 = gx.expectations.ExpectColumnToExist(\n",
    "    column=\"review_sid\", column_index=1\n",
    ")\n",
    "schema_fct_orders_expectation_3 = gx.expectations.ExpectColumnToExist(\n",
    "    column=\"item_sid\", column_index=2\n",
    ")\n",
    "schema_fct_orders_expectation_4 = gx.expectations.ExpectColumnToExist(\n",
    "    column=\"customer_sid\", column_index=3\n",
    ")\n",
    "\n",
    "# Create a new suite for the fact table schema validation\n",
    "suite_name = \"schema_fct_orders_expectation\"\n",
    "suite = gx.ExpectationSuite(name=suite_name)\n",
    "suite = context.suites.add(suite)\n",
    "\n",
    "suite.add_expectation(schema_fct_orders_expectation_1)\n",
    "suite.add_expectation(schema_fct_orders_expectation_2)\n",
    "suite.add_expectation(schema_fct_orders_expectation_3)\n",
    "suite.add_expectation(schema_fct_orders_expectation_4)\n",
    "\n",
    "# Create validation definition\n",
    "definition_name = \"schema_fct_orders_definition\"\n",
    "validation_definition = gx.ValidationDefinition(\n",
    "    data=batch_definition, suite=suite, name=definition_name\n",
    ")\n",
    "\n",
    "# Run validation\n",
    "validation_results = validation_definition.run()\n",
    "print(f\"Validation results for {fact_table_name}:\")\n",
    "print(validation_results)"
   ]
  },
  {
   "cell_type": "code",
   "execution_count": null,
   "id": "731039d0",
   "metadata": {},
   "outputs": [],
   "source": [
    "context = gx.get_context()\n",
    "suite_name = \"df_delivery_expectation_suite\"\n",
    "suite = gx.ExpectationSuite(name=suite_name)\n",
    "suite = context.suites.add(suite)\n",
    "\n",
    "# Add expectations for column existence\n",
    "suite.add_expectation(\n",
    "    gx.expectations.ExpectColumnToExist(column=\"actual_delivery_time\")\n",
    ")\n",
    "suite.add_expectation(\n",
    "    gx.expectations.ExpectColumnToExist(column=\"estimated_delivery_time\")\n",
    ")\n",
    "suite.add_expectation(\n",
    "    gx.expectations.ExpectColumnToExist(column=\"actual_delivery_time_minutes\")\n",
    ")\n",
    "suite.add_expectation(\n",
    "    gx.expectations.ExpectColumnToExist(column=\"estimated_delivery_time_minutes\")\n",
    ")\n",
    "\n",
    "# Add expectations for column values to be non-null\n",
    "suite.add_expectation(\n",
    "    gx.expectations.ExpectColumnValuesToNotBeNull(column=\"actual_delivery_time\")\n",
    ")\n",
    "suite.add_expectation(\n",
    "    gx.expectations.ExpectColumnValuesToNotBeNull(column=\"estimated_delivery_time\")\n",
    ")\n",
    "suite.add_expectation(\n",
    "    gx.expectations.ExpectColumnValuesToNotBeNull(column=\"actual_delivery_time_minutes\")\n",
    ")\n",
    "suite.add_expectation(\n",
    "    gx.expectations.ExpectColumnValuesToNotBeNull(column=\"estimated_delivery_time_minutes\")\n",
    ")\n",
    "\n",
    "# Add expectations for column values to be positive\n",
    "suite.add_expectation(\n",
    "    gx.expectations.ExpectColumnValuesToBeGreaterThan(\n",
    "        column=\"actual_delivery_time_minutes\", value=0\n",
    "    )\n",
    ")\n",
    "suite.add_expectation(\n",
    "    gx.expectations.ExpectColumnValuesToBeGreaterThan(\n",
    "        column=\"estimated_delivery_time_minutes\", value=0\n",
    "    )\n",
    ")\n",
    "\n",
    "# Add expectations for column data types\n",
    "suite.add_expectation(\n",
    "    gx.expectations.ExpectColumnValuesToBeOfType(\n",
    "        column=\"actual_delivery_time\", type_=\"timedelta64[ns]\"\n",
    "    )\n",
    ")\n",
    "suite.add_expectation(\n",
    "    gx.expectations.ExpectColumnValuesToBeOfType(\n",
    "        column=\"estimated_delivery_time\", type_=\"timedelta64[ns]\"\n",
    "    )\n",
    ")\n",
    "suite.add_expectation(\n",
    "    gx.expectations.ExpectColumnValuesToBeOfType(\n",
    "        column=\"actual_delivery_time_minutes\", type_=\"float\"\n",
    "    )\n",
    ")\n",
    "suite.add_expectation(\n",
    "    gx.expectations.ExpectColumnValuesToBeOfType(\n",
    "        column=\"estimated_delivery_time_minutes\", type_=\"float\"\n",
    "    )\n",
    ")\n",
    "\n",
    "# Add expectations for column value ranges\n",
    "suite.add_expectation(\n",
    "    gx.expectations.ExpectColumnValuesToBeBetween(\n",
    "        column=\"actual_delivery_time_minutes\", min_value=0, max_value=10000\n",
    "    )\n",
    ")\n",
    "suite.add_expectation(\n",
    "    gx.expectations.ExpectColumnValuesToBeBetween(\n",
    "        column=\"estimated_delivery_time_minutes\", min_value=0, max_value=10000\n",
    "    )\n",
    ")\n",
    "\n",
    "# Add expectations for consistency between columns\n",
    "suite.add_expectation(\n",
    "    gx.expectations.ExpectMulticolumnValuesToBeInSet(\n",
    "        columns=[\"actual_delivery_time_minutes\", \"estimated_delivery_time_minutes\"],\n",
    "        condition=\"actual_delivery_time_minutes <= estimated_delivery_time_minutes\"\n",
    "    )\n",
    ")\n",
    "\n",
    "# Validate the DataFrame\n",
    "batch_definition = data_asset.add_batch_definition_whole_dataframe(\"df_delivery_batch\")\n",
    "batch_parameters = {\"dataframe\": df_fact_table}\n",
    "batch = batch_definition.get_batch(batch_parameters=batch_parameters)\n",
    "\n",
    "validation_definition = gx.ValidationDefinition(\n",
    "    data=batch, suite=suite, name=\"df_delivery_validation\"\n",
    ")\n",
    "validation_results = validation_definition.run()\n",
    "print(validation_results)"
   ]
  }
 ],
 "metadata": {
  "kernelspec": {
   "display_name": "dagster_meltano",
   "language": "python",
   "name": "python3"
  },
  "language_info": {
   "codemirror_mode": {
    "name": "ipython",
    "version": 3
   },
   "file_extension": ".py",
   "mimetype": "text/x-python",
   "name": "python",
   "nbconvert_exporter": "python",
   "pygments_lexer": "ipython3",
   "version": "3.11.13"
  }
 },
 "nbformat": 4,
 "nbformat_minor": 5
}
