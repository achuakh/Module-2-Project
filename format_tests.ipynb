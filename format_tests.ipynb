{
 "cells": [
  {
   "cell_type": "code",
   "execution_count": 2,
   "id": "f8534fd8",
   "metadata": {},
   "outputs": [],
   "source": [
    "import numpy as np\n",
    "import pandas as pd\n",
    "import matplotlib.pyplot as plt\n",
    "import csv"
   ]
  },
  {
   "cell_type": "markdown",
   "id": "bde3d8ba",
   "metadata": {},
   "source": [
    "Remarks: for better csv supported reader in linux:\n",
    "\n",
    " sudo apt install csvkit\n"
   ]
  },
  {
   "cell_type": "code",
   "execution_count": 24,
   "id": "52c57bdc",
   "metadata": {},
   "outputs": [
    {
     "name": "stdout",
     "output_type": "stream",
     "text": [
      "Total physical lines in file: 104720\n",
      "Total rows parsed by pandas: 99225\n",
      "number of rows with discrepancy: 5495\n"
     ]
    }
   ],
   "source": [
    "\n",
    "file_path = \"/home/chuhao/dsai_sctp/br_e_commerce/data/olist_order_reviews_dataset.csv\"\n",
    "\n",
    "# Count lines in file (physical lines)\n",
    "with open(file_path, 'r') as f:\n",
    "    total_lines = sum(1 for _ in f)\n",
    "print(f\"Total physical lines in file: {total_lines}\")\n",
    "\n",
    "# Load DataFrame (logical rows)\n",
    "df = pd.read_csv(file_path, header=None)\n",
    "print(f\"Total rows parsed by pandas: {len(df)}\")\n",
    "sus_lines= total_lines - len(df)\n",
    "print(f\"number of rows with discrepancy: {sus_lines}\")"
   ]
  },
  {
   "cell_type": "code",
   "execution_count": 4,
   "id": "582c12ac",
   "metadata": {},
   "outputs": [
    {
     "data": {
      "text/html": [
       "<div>\n",
       "<style scoped>\n",
       "    .dataframe tbody tr th:only-of-type {\n",
       "        vertical-align: middle;\n",
       "    }\n",
       "\n",
       "    .dataframe tbody tr th {\n",
       "        vertical-align: top;\n",
       "    }\n",
       "\n",
       "    .dataframe thead th {\n",
       "        text-align: right;\n",
       "    }\n",
       "</style>\n",
       "<table border=\"1\" class=\"dataframe\">\n",
       "  <thead>\n",
       "    <tr style=\"text-align: right;\">\n",
       "      <th></th>\n",
       "      <th>review_id</th>\n",
       "      <th>order_id</th>\n",
       "      <th>review_score</th>\n",
       "      <th>review_comment_title</th>\n",
       "      <th>review_comment_message</th>\n",
       "      <th>review_creation_date</th>\n",
       "      <th>review_answer_timestamp</th>\n",
       "    </tr>\n",
       "  </thead>\n",
       "  <tbody>\n",
       "    <tr>\n",
       "      <th>47426</th>\n",
       "      <td>b29a17c2cda48904a90f65646c335255</td>\n",
       "      <td>358062b4847c9e2ce76ba4895d0f6625</td>\n",
       "      <td>5</td>\n",
       "      <td>excelente</td>\n",
       "      <td>muito bom, recomendo.,.,.,.,.,.,.,.,.,.,.,.,.,...</td>\n",
       "      <td>2018-06-23 00:00:00</td>\n",
       "      <td>2018-06-25 12:21:44</td>\n",
       "    </tr>\n",
       "  </tbody>\n",
       "</table>\n",
       "</div>"
      ],
      "text/plain": [
       "                              review_id                          order_id  \\\n",
       "47426  b29a17c2cda48904a90f65646c335255  358062b4847c9e2ce76ba4895d0f6625   \n",
       "\n",
       "       review_score review_comment_title  \\\n",
       "47426             5            excelente   \n",
       "\n",
       "                                  review_comment_message review_creation_date  \\\n",
       "47426  muito bom, recomendo.,.,.,.,.,.,.,.,.,.,.,.,.,...  2018-06-23 00:00:00   \n",
       "\n",
       "      review_answer_timestamp  \n",
       "47426     2018-06-25 12:21:44  "
      ]
     },
     "execution_count": 4,
     "metadata": {},
     "output_type": "execute_result"
    }
   ],
   "source": [
    "df[df[\"review_id\"] == \"b29a17c2cda48904a90f65646c335255\"]"
   ]
  },
  {
   "cell_type": "code",
   "execution_count": 16,
   "id": "3625d0e3",
   "metadata": {},
   "outputs": [],
   "source": [
    "\n",
    "input_path = \"/home/chuhao/dsai_sctp/br_e_commerce/data/olist_order_reviews_dataset.csv\"\n",
    "output_path = \"/home/chuhao/dsai_sctp/br_e_commerce/data/olist_order_reviews_dataset_cleaned.csv\"\n",
    "\n",
    "with open(input_path, 'r', encoding='utf-8', newline='') as infile, \\\n",
    "     open(output_path, 'w', encoding='utf-8', newline='') as outfile:\n",
    "    reader = csv.reader(infile, quotechar='\"')\n",
    "    writer = csv.writer(outfile, quotechar='\"')\n",
    "\n",
    "\n",
    "    for row in reader:\n",
    "        #strip newlines from all fields\n",
    "        cleaned_row = [field.replace('\\n', ' ').replace('\\r', ' ') if isinstance(field, str) else field for field in row]\n",
    "        writer.writerow(cleaned_row)\n"
   ]
  },
  {
   "cell_type": "code",
   "execution_count": 22,
   "id": "aa701d4f",
   "metadata": {},
   "outputs": [
    {
     "name": "stdout",
     "output_type": "stream",
     "text": [
      "Total physical lines in file: 99225\n",
      "Total rows parsed by pandas: 99225\n",
      "number of rows with discrepancy: 0\n"
     ]
    }
   ],
   "source": [
    "file_path = \"/home/chuhao/dsai_sctp/br_e_commerce/data/olist_order_reviews_dataset_cleaned.csv\"\n",
    "\n",
    "# Count lines in file (physical lines)\n",
    "with open(file_path, 'r') as f:\n",
    "    total_lines = sum(1 for _ in f)\n",
    "print(f\"Total physical lines in file: {total_lines}\")\n",
    "\n",
    "# Load DataFrame (logical rows)\n",
    "df = pd.read_csv(file_path, header=None)\n",
    "print(f\"Total rows parsed by pandas: {len(df)}\")\n",
    "sus_lines= total_lines - len(df)\n",
    "print(f\"number of rows with discrepancy: {sus_lines}\")"
   ]
  },
  {
   "cell_type": "markdown",
   "id": "ab3201ba",
   "metadata": {},
   "source": [
    "(base) chuhao@DESKTOP-JL1UHSL:~/dsai_sctp/br_e_commerce/data$ csvstat --count /home/chuhao/dsai_sctp/br_e_commerce/data/olist_order_reviews_dataset_cleaned.csv\n",
    "\n",
    "99224\n"
   ]
  }
 ],
 "metadata": {
  "kernelspec": {
   "display_name": "pds",
   "language": "python",
   "name": "python3"
  },
  "language_info": {
   "codemirror_mode": {
    "name": "ipython",
    "version": 3
   },
   "file_extension": ".py",
   "mimetype": "text/x-python",
   "name": "python",
   "nbconvert_exporter": "python",
   "pygments_lexer": "ipython3",
   "version": "3.10.16"
  }
 },
 "nbformat": 4,
 "nbformat_minor": 5
}
